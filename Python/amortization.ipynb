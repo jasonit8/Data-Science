{
 "cells": [
  {
   "cell_type": "markdown",
   "metadata": {},
   "source": [
    "# Bank Amortization Schedule\n",
    "> An amortization schedule is a complete table of periodic loan payments, showing the amount of principal and the amount of interest that comprise each payment until the loan is paid off at the end of its term. - Investopedia\n",
    "\n",
    "### The following code generates the schedule for a bank mortgage or loan."
   ]
  },
  {
   "cell_type": "code",
   "execution_count": 1,
   "metadata": {},
   "outputs": [],
   "source": [
    "def amortization(amount=10**3,interest=.05,periods=5,drawtable=False,colwidth=15):\n",
    "    pay = amount*interest/(1-(1+interest)**(-periods))\n",
    "    principal = 0\n",
    "    table = []\n",
    "    for i in range(periods):\n",
    "        amount -= principal\n",
    "        ipay = amount * interest\n",
    "        principal = pay - ipay\n",
    "        balance = amount - principal\n",
    "        table += [[amount,pay,ipay,principal,balance]]\n",
    "    if drawtable:\n",
    "        print(' AMORTIZATION LOAN TABLE '.center(12+colwidth*5,'-'))\n",
    "        print('Period'.rjust(11)+'Loan'.rjust(colwidth)+'Payment'.rjust(colwidth)\n",
    "        +'Interest'.rjust(colwidth)+'Principal'.rjust(colwidth)+'Balance'.rjust(colwidth))\n",
    "        print('-'*(12+colwidth*5))\n",
    "        for i in table:\n",
    "            row = str(table.index(i)+1).rjust(11)\n",
    "            for j in i:\n",
    "                j = '{:,.2f}'.format(j).rjust(colwidth)\n",
    "                row += j\n",
    "            else:\n",
    "                print(row)\n",
    "        else:\n",
    "            print('-'*(12+colwidth*5))\n",
    "    else:\n",
    "        return table"
   ]
  },
  {
   "cell_type": "markdown",
   "metadata": {},
   "source": [
    "These argument values are given, but they can be changed at will:\n",
    "\n",
    "| Argument | Value |\n",
    "| - | - |\n",
    "| Loan `amount` | `1000` USD |\n",
    "| Number of payment `periods` | `5` times (or months / years) |\n",
    "| `interest` rate | 5% or `.05` |\n",
    "| `drawtable` | `False` |\n",
    "| Column width `colwidth` | `15` characters |\n",
    "\n",
    "This code has an optional argument **drawtable**. If **drawtable** is not set, it is `False` by default and returns the data, otherwise it prints the Amortization Table if it is `True`. Depending on the user's objective, they can choose which kind of output will be returned.\n",
    "\n",
    "When **drawtable** is `True`:"
   ]
  },
  {
   "cell_type": "code",
   "execution_count": 2,
   "metadata": {},
   "outputs": [
    {
     "name": "stdout",
     "output_type": "stream",
     "text": [
      "------------------------------- AMORTIZATION LOAN TABLE -------------------------------\n",
      "     Period           Loan        Payment       Interest      Principal        Balance\n",
      "---------------------------------------------------------------------------------------\n",
      "          1       1,000.00         230.97          50.00         180.97         819.03\n",
      "          2         819.03         230.97          40.95         190.02         629.00\n",
      "          3         629.00         230.97          31.45         199.52         429.48\n",
      "          4         429.48         230.97          21.47         209.50         219.98\n",
      "          5         219.98         230.97          11.00         219.98           0.00\n",
      "---------------------------------------------------------------------------------------\n"
     ]
    }
   ],
   "source": [
    "amortization(drawtable=True)"
   ]
  },
  {
   "cell_type": "markdown",
   "metadata": {},
   "source": [
    "When **drawtable** is not set (`False`):"
   ]
  },
  {
   "cell_type": "code",
   "execution_count": 3,
   "metadata": {},
   "outputs": [
    {
     "name": "stdout",
     "output_type": "stream",
     "text": [
      "[[1000, 230.97479812826796, 50.0, 180.97479812826796, 819.0252018717321], [819.0252018717321, 230.97479812826796, 40.951260093586605, 190.02353803468137, 629.0016638370507], [629.0016638370507, 230.97479812826796, 31.45008319185254, 199.52471493641542, 429.4769489006353], [429.4769489006353, 230.97479812826796, 21.473847445031765, 209.5009506832362, 219.9759982173991], [219.9759982173991, 230.97479812826796, 10.998799910869955, 219.975998217398, 1.1084466677857563e-12]]\n"
     ]
    }
   ],
   "source": [
    "print(amortization())"
   ]
  },
  {
   "cell_type": "markdown",
   "metadata": {},
   "source": [
    "Let's change the inputs a little to generate another example. Let the loan amount be 200,000 USD paid monthly; the interest rate 8% per annum; and the period 3 years."
   ]
  },
  {
   "cell_type": "code",
   "execution_count": 4,
   "metadata": {},
   "outputs": [
    {
     "name": "stdout",
     "output_type": "stream",
     "text": [
      "------------------------------- AMORTIZATION LOAN TABLE -------------------------------\n",
      "     Period           Loan        Payment       Interest      Principal        Balance\n",
      "---------------------------------------------------------------------------------------\n",
      "          1     200,000.00       6,267.27       1,333.33       4,933.94     195,066.06\n",
      "          2     195,066.06       6,267.27       1,300.44       4,966.83     190,099.23\n",
      "          3     190,099.23       6,267.27       1,267.33       4,999.94     185,099.28\n",
      "          4     185,099.28       6,267.27       1,234.00       5,033.28     180,066.00\n",
      "          5     180,066.00       6,267.27       1,200.44       5,066.83     174,999.17\n",
      "          6     174,999.17       6,267.27       1,166.66       5,100.61     169,898.56\n",
      "          7     169,898.56       6,267.27       1,132.66       5,134.62     164,763.94\n",
      "          8     164,763.94       6,267.27       1,098.43       5,168.85     159,595.10\n",
      "          9     159,595.10       6,267.27       1,063.97       5,203.31     154,391.79\n",
      "         10     154,391.79       6,267.27       1,029.28       5,237.99     149,153.80\n",
      "         11     149,153.80       6,267.27         994.36       5,272.91     143,880.88\n",
      "         12     143,880.88       6,267.27         959.21       5,308.07     138,572.82\n",
      "         13     138,572.82       6,267.27         923.82       5,343.45     133,229.36\n",
      "         14     133,229.36       6,267.27         888.20       5,379.08     127,850.28\n",
      "         15     127,850.28       6,267.27         852.34       5,414.94     122,435.35\n",
      "         16     122,435.35       6,267.27         816.24       5,451.04     116,984.31\n",
      "         17     116,984.31       6,267.27         779.90       5,487.38     111,496.93\n",
      "         18     111,496.93       6,267.27         743.31       5,523.96     105,972.97\n",
      "         19     105,972.97       6,267.27         706.49       5,560.79     100,412.18\n",
      "         20     100,412.18       6,267.27         669.41       5,597.86      94,814.32\n",
      "         21      94,814.32       6,267.27         632.10       5,635.18      89,179.15\n",
      "         22      89,179.15       6,267.27         594.53       5,672.75      83,506.40\n",
      "         23      83,506.40       6,267.27         556.71       5,710.56      77,795.84\n",
      "         24      77,795.84       6,267.27         518.64       5,748.63      72,047.20\n",
      "         25      72,047.20       6,267.27         480.31       5,786.96      66,260.25\n",
      "         26      66,260.25       6,267.27         441.73       5,825.54      60,434.71\n",
      "         27      60,434.71       6,267.27         402.90       5,864.38      54,570.33\n",
      "         28      54,570.33       6,267.27         363.80       5,903.47      48,666.86\n",
      "         29      48,666.86       6,267.27         324.45       5,942.83      42,724.03\n",
      "         30      42,724.03       6,267.27         284.83       5,982.45      36,741.59\n",
      "         31      36,741.59       6,267.27         244.94       6,022.33      30,719.26\n",
      "         32      30,719.26       6,267.27         204.80       6,062.48      24,656.78\n",
      "         33      24,656.78       6,267.27         164.38       6,102.89      18,553.89\n",
      "         34      18,553.89       6,267.27         123.69       6,143.58      12,410.31\n",
      "         35      12,410.31       6,267.27          82.74       6,184.54       6,225.77\n",
      "         36       6,225.77       6,267.27          41.51       6,225.77          -0.00\n",
      "---------------------------------------------------------------------------------------\n"
     ]
    }
   ],
   "source": [
    "amortization(amount=200000, interest=.08/12, periods=3*12, drawtable=True)"
   ]
  },
  {
   "cell_type": "markdown",
   "metadata": {},
   "source": [
    "The end."
   ]
  }
 ],
 "metadata": {
  "kernelspec": {
   "display_name": "Python 3",
   "language": "python",
   "name": "python3"
  },
  "language_info": {
   "codemirror_mode": {
    "name": "ipython",
    "version": 3
   },
   "file_extension": ".py",
   "mimetype": "text/x-python",
   "name": "python",
   "nbconvert_exporter": "python",
   "pygments_lexer": "ipython3",
   "version": "3.7.3"
  }
 },
 "nbformat": 4,
 "nbformat_minor": 2
}
