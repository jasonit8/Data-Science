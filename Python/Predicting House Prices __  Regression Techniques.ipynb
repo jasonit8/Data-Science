{
 "cells": [
  {
   "cell_type": "markdown",
   "metadata": {
    "_cell_guid": "c6e42e34-db68-49ef-8070-a69f5c7337b3",
    "_uuid": "da038af3ad452113ee3fb4017e3eedab48e9f86a"
   },
   "source": [
    "# Implementing Advanced Regression  Techniques for Prediction:\n",
    "\n",
    "There are several factors that impact the overall price of the house, some of those factors are more **tangible** as the quality of the house or the overall size (area) of the house and other factors are more **intrinsic** such as the performance of the economy. Coming with an accurate model that predicts with such precision the actual value is an arduous task since there are both internal and external factors that will affect the price of a single house. Nevertheless, what we can do is **detect** those features that carry a heavier weight on the overall output (Price of the house). <br><br>\n",
    "\n",
    "Before the housing crisis that occurred during the years of (2007-2008), most people believed that the prices of houses tended to go up throughout the years and that people that invested into properties were certain that they will get a return. This was not the case since banks were basically approving loans to people that were not able to afford to pay a house, there were even financial institutions who were approving loans to ordinary individuals at a variable interest rate (meaning rate will change depending on the current market rate) and when the crisis occurred lots of those ordinary individuals were not able to afford to pay back their mortgages. Of course, there were other reasons that caused the financial crisis in the first place such as the introduction of complex financial instruments (*derivatives are still not widely understood*), hedging financial instruments (credit default swaps), and the deregulation of the financial industry as a whole. While we can argue about the factors that caused the financial crisis, the main objective of this post is to determine what possible features could have a real impact on the overall value of a house. We will try to answer questions such as to what extent did the recession impacted the value house prices? What materials were most commonly used with houses that had a high price range? (Rooftop, walls etc.) Which neighborhoods were the most exclusive? <br><br>\n",
    "\n",
    "I believe that in order to perform an extensive analysis of this data we should explore our data, by this I mean getting a sense of what is the **story behind the data**. Most of the time I tend to reject the idea of just building a model that have a good accuracy score for predicting values instead, I analyze my data carefully (determining distributions, missing values, visualizations) in order to have a better understanding of what is going on. ONly after my extensive analysis I proceed to developing the predictive model, in this case we will use **regression models.** The downside of this to many of you who will see this post, is that it will be somewhat long, so if you think you should **skip** all the sections and start from the regression model step, please feel free to do so! I will create an outline so it will help you find the section you wish to start with. <br><br>\n",
    "\n",
    "**I'd rather have a full house at a medium price than a half-full at a high price. - George Shinn**\n",
    "***"
   ]
  },
  {
   "cell_type": "markdown",
   "metadata": {
    "_cell_guid": "c6cbbd64-bc2c-48a8-b297-5a4e2e5429bd",
    "_uuid": "e40e74e83039e7eeca270b412107999f7176c1b2"
   },
   "source": [
    "## Goal of this Project:\n",
    "***\n",
    "### Achieving our goal is split into two phases: <br>\n",
    "1) **Exploratory Data Analysis (EVA)**: In this phase our main aim is to have a better understanding of the features involved in our data. It might be possible that some are left behind but I will be focusing on the features that have the highest correlation towards SalePrice. <br><br>\n",
    "\n",
    "2) **Advanced Regression**: We will implement Regression model to predict a possible SalePrice (label) of the house."
   ]
  },
  {
   "cell_type": "markdown",
   "metadata": {
    "_cell_guid": "a60e022f-aaa3-4b3f-b031-574d3c3ef7e0",
    "_uuid": "fca3556b83c3c5348d8bff3b436475baeda0b26c"
   },
   "source": [
    "## Outline: \n",
    "***\n",
    "I. **Understanding our Data**<br>\n",
    "a) [Splitting into Different Categories](#splitting)<br>\n",
    "b) [Gathering Basic Insight](#insight) <br><br>\n",
    "\n",
    "II. **Economic Activity**<br><br>\n",
    "III. [Outside Surroundings](#outside)<br>\n",
    "a) [Type of Zoning](#zoning)<br>\n",
    "b) [Neighborhoods](#neighborhoods) <br><br>\n",
    "\n",
    "IV. **Areas of the House** <br>\n",
    "a) [The Impact of Space towards Price](#space)<br><br>\n",
    "\n",
    "V. **Building Characteristics**<br>\n",
    "a) [Correlations with SalePrice](#correlation)<br>\n",
    "b) [What garages tell about House Prices?](#garage)<br><br>\n",
    "\n",
    "VI. **Miscellaneous and Utilities**<br>\n",
    "a) [What determines the quality of the house?](#quality)<br>\n",
    "b) [Intersting insights](#interesting)<br>\n",
    "c) [Which Material Combination increased the Price of Houses?](#material)<br><br>\n",
    "\n",
    "VII. [Quality of Neighborhoods](#quality_neighborhoods)<br><br>\n",
    "\n",
    "VIII. **The Purpose of using Log Transformations** <br>\n",
    "a)[Log Transformations](#log_transformations)<br>\n",
    "b) [Skewedness and Kurtosis](#skew_kurt)<br>\n",
    "c) [Outliers Analysis](#analysis_outliers)<br>\n",
    "d) [Bivariate Analysis](#bivariate) <br><br>\n",
    "\n",
    "IX. **Feature Engineering** <br>\n",
    "a) [Dealing with Missing Values](#missing_values)<br>\n",
    "b) [Transforming Values](#transforming_values)<br>\n",
    "c) [Combining Attributes](#combining_atributes) <br>\n",
    "d) [Dealing with numerical and categorical values](#num_cat_val) <br><br>\n",
    "\n",
    "X. **Scaling** <br>\n",
    "a) [Categorical Encoding Class](#categorical_class)<br>\n",
    "b) [Combine Attribute Class](#combining)<br>\n",
    "c) [Pipelines](#combining)<br><br>\n",
    "\n",
    "XI. **Predictive Models** <br>\n",
    "a) [Residual Plot](#residual_plot) <br>\n",
    "b) [RandomForests Regressor](#random_forest) <br>\n",
    "c) [GradientBoosting Regressor](#gradient_boosting)<br>\n",
    "d) [Stacking Regressor](#stacking_regressor)"
   ]
  },
  {
   "cell_type": "markdown",
   "metadata": {
    "_cell_guid": "344b4951-2329-456f-ade4-7a95c69a9ddf",
    "_uuid": "d9d95d01af4628543de7a82b03b85c0f5fa6d59d"
   },
   "source": [
    "### References: \n",
    "1) <a href=\"https://www.kaggle.com/serigne/stacked-regressions-top-4-on-leaderboard\">Stacked Regressions : Top 4% on LeaderBoard</a> by Serigne.\n",
    "- Good if you are looking for stacking models and to gather an in-depth analysis for feature engineering. <br><br>\n",
    "\n",
    "2) <a href=\"https://www.kaggle.com/vhrique/simple-house-price-prediction-stacking\"> Simple House Price Prediction Stacking </a> by Victor Henrique Alves Ribeiro.  \n",
    "- Gave me an idea of which algorithms to implement in my ensemble methods. <br>\n",
    "- Also Victor is really open to answer any doubts with regards to this project. <br><br>\n",
    "\n",
    "3) <a href=\"https://www.kaggle.com/pmarcelino/comprehensive-data-exploration-with-python\"> Comprehensive data exploration with Python </a> by Pedro Marcelino.\n",
    "- Help me understand more in depth the different linear regularization methods and its parameters. <br><br>\n",
    "\n",
    "4) <b> Hands on Machine Learning with Scikit-Learn & TensorFlow by Aurélien Géron (O'Reilly). CopyRight 2017 Aurélien Géron   </b><br>\n",
    "- Good reference for understanding how Pipelines work. <br>\n",
    "- Good for understanding ensemble methods such as RandomForests and GradientBoosting. <br>\n",
    "- This book is a must have for people starting in the area of machine learning.<br><br>\n",
    "\n",
    "\n",
    "5) <a href=\"https://www.analyticsvidhya.com/blog/2017/06/a-comprehensive-guide-for-linear-ridge-and-lasso-regression/\"> A comprehensive beginners guide for Linear, Ridge and Lasso Regression </a> by Shubham Jain at Analytics Vidhya.\n",
    "- Helped me implement a residual plot.. <br>\n",
    "- Better understanding of Ridge, Lasso and ElasticNet (Good for Beginners)."
   ]
  },
  {
   "cell_type": "code",
   "execution_count": null,
   "metadata": {
    "_cell_guid": "6334b548-5cc8-4428-9547-7cd5df81910b",
    "_uuid": "52eb856d0e92b16802a39483b459f360376352ea"
   },
   "outputs": [],
   "source": [
    "# Data and plotting imports\n",
    "import pandas as pd\n",
    "import numpy as np\n",
    "import seaborn as sns\n",
    "import matplotlib\n",
    "\n",
    "import matplotlib.pyplot as plt\n",
    "\n",
    "# Statistical Libraries\n",
    "from scipy.stats import skew\n",
    "from scipy.stats.stats import pearsonr\n",
    "from scipy import stats\n",
    "\n",
    "\n",
    "# Plotly imports\n",
    "from plotly import tools\n",
    "import plotly.plotly as py\n",
    "import plotly.figure_factory as ff\n",
    "import plotly.graph_objs as go\n",
    "from plotly.offline import download_plotlyjs, init_notebook_mode, plot, iplot\n",
    "init_notebook_mode(connected=True)\n",
    "\n",
    "\n",
    "train = pd.read_csv('../input/train.csv')\n",
    "test = pd.read_csv('../input/test.csv')\n",
    "\n",
    "# Maintain the Ids for submission\n",
    "train_id = train['Id']\n",
    "test_id = test['Id']"
   ]
  },
  {
   "cell_type": "code",
   "execution_count": null,
   "metadata": {
    "_cell_guid": "8046b415-b485-417b-9c79-a62c072bb9e4",
    "_uuid": "9fbdf22ef21b4e098b6e0bdcb4aeaa60b64e7d71"
   },
   "outputs": [],
   "source": [
    "train['SalePrice'].describe()"
   ]
  },
  {
   "cell_type": "code",
   "execution_count": null,
   "metadata": {
    "_cell_guid": "16ac8751-f327-4724-8d0c-268014c910db",
    "_uuid": "c8149e8753105daed717a7caa3620bdb5f169204"
   },
   "outputs": [],
   "source": [
    "# It seems we have nulls so we will use the imputer strategy later on.\n",
    "Missing = pd.concat([train.isnull().sum(), test.isnull().sum()], axis=1, keys=['train', 'test'])\n",
    "Missing[Missing.sum(axis=1) > 0]"
   ]
  },
  {
   "cell_type": "code",
   "execution_count": null,
   "metadata": {
    "_cell_guid": "afa92edd-1801-4cc1-ad98-c94f3dd32f07",
    "_uuid": "b0ed34b9319a2ae0426927cd655225bed0dc79e8"
   },
   "outputs": [],
   "source": [
    "# We have several columns that contains null values we should replace them with the median or mean those null values.\n",
    "train.info()"
   ]
  },
  {
   "cell_type": "code",
   "execution_count": null,
   "metadata": {
    "_cell_guid": "587c4a32-99bf-4878-83c9-8e69476b9117",
    "_uuid": "aa9275261e010f1d8270d4958e112413fb99f64f"
   },
   "outputs": [],
   "source": [
    "train.describe()"
   ]
  },
  {
   "cell_type": "code",
   "execution_count": null,
   "metadata": {
    "_cell_guid": "934b7836-e0af-4d75-b35c-da60f3eabce4",
    "_uuid": "0934facc068a4dc79afa328c2bf9aecff9122c80"
   },
   "outputs": [],
   "source": [
    "corr = train.corr()\n",
    "plt.figure(figsize=(14,8))\n",
    "plt.title('Overall Correlation of House Prices', fontsize=18)\n",
    "sns.heatmap(corr,annot=False,cmap='RdYlBu',linewidths=0.2,annot_kws={'size':20})\n",
    "plt.show()"
   ]
  },
  {
   "cell_type": "markdown",
   "metadata": {
    "_cell_guid": "87c42fd0-adc5-46e0-9951-8323346751c3",
    "_uuid": "3f9dcd8fa94d75cfc21e05d15ca4b2aa37231787"
   },
   "source": [
    "# Splitting the Variables into Different Categories:\n",
    "<a id=\"splitting\"></a>\n",
    "## Data Analysis:\n",
    "For data analysis purposes I am going to separate the different features into different categories in order to segment our analysis. These are the steps we are going to take in our analysis: Nevertheless, I will split the categories so you can analyse thoroughly the different categories.<br>\n",
    "1) Separate into different categories in order to make our analysis easier. <br>\n",
    "2) All of our categories will contain sales price in order to see if there is a significant pattern.<br>\n",
    "3) After that we will create our linear regression model in order to make accurate predictions as to what will the price of the houses will be.<br><br>\n",
    "4) For all the categories we have id, salesprice, MoSold, YearSold, SaleType and SaleCondition.\n",
    "\n",
    "**Note:** At least for me, it is extremely important to make a data analysis of our data, in order to have a grasp of what the data is telling us, what might move salesprice higher or lower. Instead of just running a model and just predict prices, we must make a thorough analysis of our data. Also, using these different categories is completely optional in case you want to make a more in-depth analysis of the different features."
   ]
  },
  {
   "cell_type": "code",
   "execution_count": null,
   "metadata": {
    "_cell_guid": "a36e8f64-73cb-4741-afc7-b39734a25d07",
    "_uuid": "b3e3427ce88e2a0b6c6cd97288c6a4f4a4af0d73"
   },
   "outputs": [],
   "source": [
    "# Create the categories\n",
    "outsidesurr_df = train[['Id', 'MSZoning', 'LotFrontage', 'LotArea', 'Neighborhood', 'Condition1', 'Condition2', 'PavedDrive', \n",
    "                    'Street', 'Alley', 'LandContour', 'LandSlope', 'LotConfig', 'MoSold', 'YrSold', 'SaleType', 'LotShape', \n",
    "                     'SaleCondition', 'SalePrice']]\n",
    "\n",
    "building_df = train[['Id', 'MSSubClass', 'BldgType', 'HouseStyle', 'YearBuilt', 'YearRemodAdd', 'RoofStyle', \n",
    "                    'RoofMatl', 'Exterior1st', 'Exterior2nd', 'MasVnrType', 'MasVnrArea', 'Foundation', 'Functional', \n",
    "                    'GarageType', 'GarageYrBlt', 'GarageFinish', 'GarageCars', 'GarageArea', 'MoSold', 'YrSold', 'SaleType',\n",
    "                    'SaleCondition', 'SalePrice']]\n",
    "\n",
    "utilities_df = train[['Id', 'Utilities', 'Heating', 'CentralAir', 'Electrical', 'Fireplaces', 'PoolArea', 'MiscVal', 'MoSold',\n",
    "                     'YrSold', 'SaleType', 'SaleCondition', 'SalePrice']]\n",
    "\n",
    "ratings_df = train[['Id', 'OverallQual', 'OverallCond', 'ExterQual', 'ExterCond', 'BsmtQual', 'BsmtCond', 'BsmtExposure', \n",
    "                   'BsmtFinType1', 'BsmtFinType2', 'HeatingQC', 'KitchenQual', 'FireplaceQu', 'PoolQC', 'Fence', 'MiscFeature',\n",
    "                   'GarageCond', 'GarageQual', 'MoSold', 'YrSold', 'SaleType', 'SaleCondition', 'SalePrice']]\n",
    "\n",
    "rooms_df = train[['Id', 'GrLivArea', 'BsmtFullBath', 'BsmtHalfBath', 'FullBath', 'HalfBath', 'BsmtFinSF1', 'BsmtFinSF2',\n",
    "                 'BsmtUnfSF', 'TotalBsmtSF', '1stFlrSF', '2ndFlrSF', 'LowQualFinSF','TotRmsAbvGrd', \n",
    "                 'WoodDeckSF', 'OpenPorchSF', 'EnclosedPorch', '3SsnPorch', 'ScreenPorch', 'MoSold', 'YrSold', 'SaleType',\n",
    "                 'SaleCondition', 'SalePrice']]\n",
    "\n",
    "\n",
    "\n",
    "\n",
    "# Set Id as index of the dataframe.\n",
    "outsidesurr_df = outsidesurr_df.set_index('Id')\n",
    "building_df = building_df.set_index('Id')\n",
    "utilities_df = utilities_df.set_index('Id')\n",
    "ratings_df = ratings_df.set_index('Id')\n",
    "rooms_df = rooms_df.set_index('Id')\n",
    "\n",
    "# Move SalePrice to the first column (Our Label)\n",
    "sp0 = outsidesurr_df['SalePrice']\n",
    "outsidesurr_df.drop(labels=['SalePrice'], axis=1, inplace=True)\n",
    "outsidesurr_df.insert(0, 'SalePrice', sp0)\n",
    "\n",
    "sp1 = building_df['SalePrice']\n",
    "building_df.drop(labels=['SalePrice'], axis=1, inplace=True)\n",
    "building_df.insert(0, 'SalePrice', sp1)\n",
    "\n",
    "sp2 = utilities_df['SalePrice']\n",
    "utilities_df.drop(labels=['SalePrice'], axis=1, inplace=True)\n",
    "utilities_df.insert(0, 'SalePrice', sp2)\n",
    "\n",
    "sp3 = ratings_df['SalePrice']\n",
    "ratings_df.drop(labels=['SalePrice'], axis=1, inplace=True)\n",
    "ratings_df.insert(0, 'SalePrice', sp3)\n",
    "\n",
    "sp4 = rooms_df['SalePrice']\n",
    "rooms_df.drop(labels=['SalePrice'], axis=1, inplace=True)\n",
    "rooms_df.insert(0, 'SalePrice', sp4)"
   ]
  },
  {
   "cell_type": "markdown",
   "metadata": {
    "_cell_guid": "cb7328fa-02c2-4dd5-80df-1f10afb1cef7",
    "_uuid": "353cae140157401b318eb47e18a130d587ee3d94"
   },
   "source": [
    "# Gathering a Basic Insight of our Data:\n",
    "<a id=\"insight\"></a>\n",
    "<br><br>\n",
    "<img src=\"http://blog.algoscale.com/wp-content/uploads/2017/06/algoscale_data_analytics4.jpg\">\n",
    "<br><br>\n",
    "\n",
    "## Summary:\n",
    "<ul>\n",
    "<li> The distribution of <b> house prices </b> is right skewed.</li>\n",
    "<li> There is a <b>drop</b> in the number of houses sold during the year of 2010. </li>\n",
    "</ul>"
   ]
  },
  {
   "cell_type": "code",
   "execution_count": null,
   "metadata": {
    "_cell_guid": "929a8de8-77c6-4c7c-8cb7-a7db6238e811",
    "_uuid": "39728320ed58ca2f49844ba8e80b5a54b67385b1"
   },
   "outputs": [],
   "source": [
    "import seaborn as sns\n",
    "sns.set_style('white')\n",
    "\n",
    "f, axes = plt.subplots(ncols=4, figsize=(16,4))\n",
    "\n",
    "# Lot Area: In Square Feet\n",
    "sns.distplot(train['LotArea'], kde=False, color=\"#DF3A01\", ax=axes[0]).set_title(\"Distribution of LotArea\")\n",
    "axes[0].set_ylabel(\"Square Ft\")\n",
    "axes[0].set_xlabel(\"Amount of Houses\")\n",
    "\n",
    "# MoSold: Year of the Month sold\n",
    "sns.distplot(train['MoSold'], kde=False, color=\"#045FB4\", ax=axes[1]).set_title(\"Monthly Sales Distribution\")\n",
    "axes[1].set_ylabel(\"Amount of Houses Sold\")\n",
    "axes[1].set_xlabel(\"Month of the Year\")\n",
    "\n",
    "# House Value\n",
    "sns.distplot(train['SalePrice'], kde=False, color=\"#088A4B\", ax=axes[2]).set_title(\"Monthly Sales Distribution\")\n",
    "axes[2].set_ylabel(\"Number of Houses \")\n",
    "axes[2].set_xlabel(\"Price of the House\")\n",
    "\n",
    "# YrSold: Year the house was sold.\n",
    "sns.distplot(train['YrSold'], kde=False, color=\"#FE2E64\", ax=axes[3]).set_title(\"Year Sold\")\n",
    "axes[3].set_ylabel(\"Number of Houses \")\n",
    "axes[3].set_xlabel(\"Year Sold\")\n",
    "\n",
    "plt.show()"
   ]
  },
  {
   "cell_type": "markdown",
   "metadata": {
    "_cell_guid": "5a042a5a-03c0-413b-b425-084a96224d7c",
    "_uuid": "2469263ed508422b7fb60f269466d97689aece5f"
   },
   "source": [
    "## Right-Skewed Distribution Summary:\n",
    "In a right skew or positive skew the mean is most of the times to the right of the median. There is a higher frequency of occurence to the left of the distribution plot leading to more exceptions (outliers to the right). Nevertheless, there is a way to transform this histogram into a normal distributions by using <b>log transformations</b> which will be discussed further below."
   ]
  },
  {
   "cell_type": "code",
   "execution_count": null,
   "metadata": {
    "_cell_guid": "a224da7c-297b-44e7-acd3-c010dd1dc7b9",
    "_uuid": "11ce898b3dd301033abcaa4016c1869cf3311133"
   },
   "outputs": [],
   "source": [
    "# Maybe we can try this with plotly.\n",
    "plt.figure(figsize=(12,8))\n",
    "sns.distplot(train['SalePrice'], color='r')\n",
    "plt.title('Distribution of Sales Price', fontsize=18)\n",
    "\n",
    "plt.show()"
   ]
  },
  {
   "cell_type": "markdown",
   "metadata": {
    "_cell_guid": "9f3a7f33-aa4c-4dc7-b555-edf16a0b8d7f",
    "_uuid": "59bfd3406c4a3b4d63ccdf2c479875e06a17738e"
   },
   "source": [
    "<h1 align=\"center\"> Economic Activity: </h1>\n",
    "<a id=\"economy\"></a>\n",
    "<img src=\"http://vietsea.net/upload/news/2016/12/1/11220161528342876747224.jpg\">\n",
    "We will visualize how the housing market in **Ames, IOWA** performed during the years 2006 - 2010 and how bad it was hit by the economic recession during the years of 2007-2008.  \n",
    "\n",
    "## Level of Supply and Demand (Summary):\n",
    "<ul>\n",
    "<li><b>June</b> and <b>July</b> were the montnths in which most houses were sold. </li>\n",
    "<li> The <b> median house price </b> was at its peak in 2007 (167k) and it was at its lowest point during the year of 2010 (155k) a difference of 12k. This might be a consequence of the economic recession. </li>\n",
    "<li> Less houses were <b>sold</b> and <b>built</b> during the year of 2010 compared to the other years. </li>\n",
    "</ul>\n",
    "\n"
   ]
  },
  {
   "cell_type": "code",
   "execution_count": null,
   "metadata": {
    "_cell_guid": "f0c2f981-a1c1-4746-aaeb-c5fc02cc708d",
    "_uuid": "714d805655f7502236957271829f8b8a12292d75"
   },
   "outputs": [],
   "source": [
    "# People tend to move during the summer\n",
    "sns.set(style=\"whitegrid\")\n",
    "plt.figure(figsize=(12,8))\n",
    "sns.countplot(y=\"MoSold\", hue=\"YrSold\", data=train)\n",
    "plt.show()"
   ]
  },
  {
   "cell_type": "code",
   "execution_count": null,
   "metadata": {
    "_cell_guid": "46963c46-6273-4901-86d3-1529346d0077",
    "_uuid": "5af8386dfba37785d7ccc216e746946869102f5f"
   },
   "outputs": [],
   "source": [
    "plt.figure(figsize=(12,8))\n",
    "sns.boxplot(x='YrSold', y='SalePrice', data=train)\n",
    "plt.xlabel('Year Sold', fontsize=14)\n",
    "plt.ylabel('Price sold', fontsize=14)\n",
    "plt.title('Houses Sold per Year', fontsize=16)"
   ]
  },
  {
   "cell_type": "code",
   "execution_count": null,
   "metadata": {
    "_cell_guid": "b227db2a-a4cd-4676-b081-2f7226dc192d",
    "_uuid": "c0ef7749d7cdfcff10c63f29da080865b43657e5"
   },
   "outputs": [],
   "source": [
    "plt.figure(figsize=(14,8))\n",
    "plt.style.use('seaborn-white')\n",
    "sns.stripplot(x='YrSold', y='YearBuilt', data=train, jitter=True, palette=\"Set2\", linewidth=1)\n",
    "plt.title('Economic Activity Analysis', fontsize=18)\n",
    "plt.xlabel('Year the house was sold', fontsize=14)\n",
    "plt.ylabel('Year the house was built', rotation=90, fontsize=14)\n",
    "plt.show()"
   ]
  },
  {
   "cell_type": "markdown",
   "metadata": {
    "_cell_guid": "533edecf-edc6-4924-ba58-ea1fe2da134c",
    "_uuid": "ff30e79d2d3b7f298810868e33a3feb8860e0ae7"
   },
   "source": [
    "<h1 align=\"center\"> Outside Surroundings of the House: </h1>\n",
    "<a id=\"outside\"></a>\n",
    "<img src=\"https://upload.wikimedia.org/wikipedia/commons/b/bc/Lot_map.PNG\">\n",
    "## Features from Outside: \n",
    "In this section we will create an in-depth analysis of how the outside surroundings affect the price. Which variables have the highest weight on price. You can use the **train** dataframe or the **outsidesurr_df** to simplify the amount of features and have a closer look as to how they behave towards **\"SalePrice\"**. For the correlation matrix I will be using outsidesurr_df so you can have a better look as to which variables from the **outside surroundings category** impact the most on the price of a house. <br><br>\n",
    "\n",
    "## Summary:\n",
    "<ul>\n",
    "<li> The <b>mean price</b> of the house of is 180,921, this will explain why the data is right skewed. </li>\n",
    "<li> <b>Standard deviation</b> is pretty high at 79442.50 meaning the data deviates a lot from the mean (many outliers) </li>\n",
    "<li> <b>LotArea</b> and <b>LotFrontage</b> had the highest correlation with the price of a house from the <b> outside surroundings category </b>. </li>\n",
    "<li> Most of the houses that were sold were from a <b> Residential Low Density Zone </b>.</li>\n",
    "<li> The most exclusive Neighborhoods are <b>Crawfor</b>, <b>Sawyer</b> and <b>SawyerW</b></li>\n",
    "</ul>"
   ]
  },
  {
   "cell_type": "code",
   "execution_count": null,
   "metadata": {
    "_cell_guid": "f7c9dd44-8e33-48cb-bdd1-e78cce5c9fc4",
    "_uuid": "4ca45fc9200da92a9be10ad22414290d5f4993d2"
   },
   "outputs": [],
   "source": [
    "outsidesurr_df.describe()"
   ]
  },
  {
   "cell_type": "code",
   "execution_count": null,
   "metadata": {
    "_cell_guid": "dc78058e-1319-4a8f-bf30-33bbdfda41e6",
    "_uuid": "394c7fd3f4a8fa8a60428646b1fe21aad711dd62"
   },
   "outputs": [],
   "source": [
    "outsidesurr_df.columns"
   ]
  },
  {
   "cell_type": "code",
   "execution_count": null,
   "metadata": {
    "_cell_guid": "97318a13-5bfd-4739-98cf-2d82b8c799d2",
    "_uuid": "ebf2d6a85c6db6d72ac2581d90d16e63959fcf64"
   },
   "outputs": [],
   "source": [
    "# Lot Area and Lot Frontage influenced hugely on the price. \n",
    "# However, YrSold does not have that much of a negative correlation with SalePrice as we previously thought.\n",
    "# Meaning the state of IOWA was not affected as other states.\n",
    "plt.style.use('seaborn-white')\n",
    "corr = outsidesurr_df.corr()\n",
    "\n",
    "sns.heatmap(corr,annot=True,cmap='YlOrRd',linewidths=0.2,annot_kws={'size':20})\n",
    "fig=plt.gcf()\n",
    "fig.set_size_inches(14,10)\n",
    "plt.title(\"Outside Surroundings Correlation\", fontsize=18)\n",
    "plt.xticks(fontsize=14)\n",
    "plt.yticks(fontsize=14)\n",
    "plt.show()"
   ]
  },
  {
   "cell_type": "markdown",
   "metadata": {
    "_cell_guid": "0bc1aced-4ffd-4577-9905-5cf5bd09d977",
    "_uuid": "31b77f81bec040f84c78f58e030cc76899cb8b61"
   },
   "source": [
    "## Type of Zoning:\n",
    "<a id=\"zoning\"></a>"
   ]
  },
  {
   "cell_type": "code",
   "execution_count": null,
   "metadata": {
    "_cell_guid": "4a975f1f-f149-47e7-a53a-c28142a3a55d",
    "_uuid": "0dfa70ef8fcffec3667efc23d6e2453bd54e77fc"
   },
   "outputs": [],
   "source": [
    "# We already know which neighborhoods were the most sold but which neighborhoods gave the most revenue. \n",
    "# This might indicate higher demand toward certain neighborhoods.\n",
    "plt.style.use('seaborn-white')\n",
    "zoning_value = train.groupby(by=['MSZoning'], as_index=False)['SalePrice'].sum()\n",
    "zoning = zoning_value['MSZoning'].values.tolist()\n",
    "\n",
    "\n",
    "# Let's create a pie chart.\n",
    "labels = ['C: Commercial', 'FV: Floating Village Res.', 'RH: Res. High Density', 'RL: Res. Low Density', \n",
    "          'RM: Res. Medium Density']\n",
    "total_sales = zoning_value['SalePrice'].values.tolist()\n",
    "explode = (0, 0, 0, 0.1, 0)\n",
    "\n",
    "fig, ax1 = plt.subplots(figsize=(12,8))\n",
    "texts = ax1.pie(total_sales, explode=explode, autopct='%.1f%%', shadow=True, startangle=90, pctdistance=0.8,\n",
    "       radius=0.5)\n",
    "\n",
    "\n",
    "ax1.axis('equal')\n",
    "plt.title('Sales Groupby Zones', fontsize=16)\n",
    "plt.tight_layout()\n",
    "plt.legend(labels, loc='best')\n",
    "plt.show()"
   ]
  },
  {
   "cell_type": "code",
   "execution_count": null,
   "metadata": {
    "_cell_guid": "dbf77538-b46e-40e2-9d27-be3430a36011",
    "_uuid": "9d0ffe29bd3632de5def232d7d2bbb9a54fb3f87"
   },
   "outputs": [],
   "source": [
    "plt.style.use('seaborn-white')\n",
    "SalesbyZone = train.groupby(['YrSold','MSZoning']).SalePrice.count()\n",
    "SalesbyZone.unstack().plot(kind='bar',stacked=True, colormap= 'gnuplot',  \n",
    "                           grid=False,  figsize=(12,8))\n",
    "plt.title('Building Sales (2006 - 2010) by Zoning', fontsize=18)\n",
    "plt.ylabel('Sale Price', fontsize=14)\n",
    "plt.xlabel('Sales per Year', fontsize=14)\n",
    "plt.show()"
   ]
  },
  {
   "cell_type": "markdown",
   "metadata": {
    "_cell_guid": "9c6d8890-959e-458b-9222-6473c688df08",
    "_uuid": "537f161c5034c1cd2563a5cce1b7e49f5a06732d"
   },
   "source": [
    "## Neighborhoods: \n",
    "<a id=\"neighborhoods\">\n"
   ]
  },
  {
   "cell_type": "code",
   "execution_count": null,
   "metadata": {
    "_cell_guid": "e5ccbdbf-83db-497f-8756-641941c3c993",
    "_uuid": "47f5b705ca6f121ec93fa6810872f453a0530e07"
   },
   "outputs": [],
   "source": [
    "fig, ax = plt.subplots(figsize=(12,8))\n",
    "sns.countplot(x=\"Neighborhood\", data=train, palette=\"Set2\")\n",
    "ax.set_title(\"Types of Neighborhoods\", fontsize=20)\n",
    "ax.set_xlabel(\"Neighborhoods\", fontsize=16)\n",
    "ax.set_ylabel(\"Number of Houses Sold\", fontsize=16)\n",
    "ax.set_xticklabels(labels=train['Neighborhood'] ,rotation=90)\n",
    "plt.show()"
   ]
  },
  {
   "cell_type": "code",
   "execution_count": null,
   "metadata": {
    "_cell_guid": "0bd519e3-4721-4ed6-a527-eb6b4f96f044",
    "_uuid": "a442cf4b99c5f7f1c8486fa456a2d169b818cab7"
   },
   "outputs": [],
   "source": [
    "# Sawyer and SawyerW tend to be the most expensive neighberhoods. Nevertheless, what makes them the most expensive\n",
    "# Is it the LotArea or LotFrontage? Let's find out!\n",
    "fig, ax = plt.subplots(figsize=(12,8))\n",
    "ax = sns.boxplot(x=\"Neighborhood\", y=\"SalePrice\", data=train)\n",
    "ax.set_title(\"Range Value of the Neighborhoods\", fontsize=18)\n",
    "ax.set_ylabel('Price Sold', fontsize=16)\n",
    "ax.set_xlabel('Neighborhood', fontsize=16)\n",
    "ax.set_xticklabels(labels=train['Neighborhood'] , rotation=90)\n",
    "plt.show()"
   ]
  },
  {
   "cell_type": "markdown",
   "metadata": {
    "_cell_guid": "efee15fa-3279-498a-b7bc-04cff114a0e5",
    "_uuid": "c08df6b6b3b5254783b9b5963180c956741474f2"
   },
   "source": [
    "<h1 align=\"center\">The Impact of Space towards Price:</h1>\n",
    "<a id=\"space\"></a>\n",
    "<img src=\"http://www.archiii.com/wp-content/uploads/2013/06/Office-Orchard-House-Interior-Design-by-Arch11-Architecture-Interior.jpg\" width=700 height=300>\n",
    "<br><br>\n",
    "\n",
    "## The Influence of Space:\n",
    "How much influence does space have towards the price of the house. Intuitively, we might think the bigger the house the higher the price but let's take a look in order to see ifit actually has a positive correlation towards **SalePrice**.\n",
    "\n",
    "## Summary:\n",
    "<ul>\n",
    "<li><b>GrlivingArea:</b> The living area square feet is positively correlated with the price of the house.</li>\n",
    "<li> <b> GarageArea:</b> Apparently, the space of the garage is an important factor that contributes to the price of the house. </li>\n",
    "<li>  <b>TotalBsmft:</b> The square feet of the basement contributes positively to the value of the house. </li>\n",
    "<li> <b>LotArea and LotFrontage:</b> I would say from all the area features these are the two that influencess the less on the price of the house.  </li>\n",
    "</ul>"
   ]
  },
  {
   "cell_type": "code",
   "execution_count": null,
   "metadata": {
    "_cell_guid": "6a9e50e5-1e60-4f41-8f1e-fe961571783d",
    "_uuid": "638e509c053e79e245ad882b80caa95fb933f9ab"
   },
   "outputs": [],
   "source": [
    "sns.jointplot(x='GrLivArea',y='SalePrice',data=train,\n",
    "              kind='hex', cmap= 'CMRmap', size=8, color='#F84403')\n",
    "\n",
    "plt.show()"
   ]
  },
  {
   "cell_type": "code",
   "execution_count": null,
   "metadata": {
    "_cell_guid": "d9a5165a-46ff-467c-89cc-6cd5174388d3",
    "_uuid": "c68bec4b5dd3c1a943131fe9711baa344952377b"
   },
   "outputs": [],
   "source": [
    "sns.jointplot(x='GarageArea',y='SalePrice',data=train,\n",
    "              kind='hex', cmap= 'CMRmap', size=8, color='#F84403')\n",
    "\n",
    "plt.show()"
   ]
  },
  {
   "cell_type": "code",
   "execution_count": null,
   "metadata": {
    "_cell_guid": "69e4df30-1df1-4ec4-9b71-fa3a5fc0515a",
    "_uuid": "e87aa194c7f7924f731627100d73d65e447010ba"
   },
   "outputs": [],
   "source": [
    "sns.jointplot(x='TotalBsmtSF',y='SalePrice',data=train,\n",
    "              kind='hex', cmap= 'CMRmap', size=8, color='#F84403')\n",
    "\n",
    "plt.show()"
   ]
  },
  {
   "cell_type": "code",
   "execution_count": null,
   "metadata": {
    "_cell_guid": "9c0d3aae-e696-451a-9a37-d5b0ca8047c8",
    "_uuid": "c90cb862e4df74442a5335e499d57741db1b2e93"
   },
   "outputs": [],
   "source": [
    "plt.figure(figsize=(16,6))\n",
    "plt.subplot(121)\n",
    "ax = sns.regplot(x=\"LotFrontage\", y=\"SalePrice\", data=train)\n",
    "ax.set_title(\"Lot Frontage vs Sale Price\", fontsize=16)\n",
    "\n",
    "plt.subplot(122)\n",
    "ax1 = sns.regplot(x=\"LotArea\", y=\"SalePrice\", data=train, color='#FE642E')\n",
    "ax1.set_title(\"Lot Area vs Sale Price\", fontsize=16)\n",
    "\n",
    "plt.show()"
   ]
  },
  {
   "cell_type": "markdown",
   "metadata": {
    "_cell_guid": "701c1242-355c-4925-9859-374e42436acf",
    "_uuid": "9f50d96e0d77b542baf964446dfad80ddf2be141"
   },
   "source": [
    "<h1 align=\"center\"> Building Characteristics: </h1>\n",
    "<a id=\"building_characteristics\"></a>\n"
   ]
  },
  {
   "cell_type": "code",
   "execution_count": null,
   "metadata": {
    "_cell_guid": "884be202-6221-450e-911d-c75ca4f031be",
    "_uuid": "f8505ef47f686c96e7855dcc0f19b8335a4e4673"
   },
   "outputs": [],
   "source": [
    "building_df.head()"
   ]
  },
  {
   "cell_type": "markdown",
   "metadata": {
    "_cell_guid": "d0b1e39b-77f2-4a38-b01c-84862a7766bd",
    "_uuid": "01d295f03bbe9da6f938308f9c58aaed560f3704"
   },
   "source": [
    "# High Correlated Variables with SalePrice:\n",
    "<a id=\"correlation\"></a>\n",
    "1) YearBuilt - The Date the building was built. <br>\n",
    "2) YearRemodAdd - The last time there wasa building remodeling. <br>\n",
    "3) MasVnArea - Masonry veneer area in square feet. <br>\n",
    "4) GarageYrBlt - Year garage was built. <br>\n",
    "5) GarageCars - Size of garage in car capacity. <br>\n",
    "6) GarageArea - Size of garage in square feet. <br>"
   ]
  },
  {
   "cell_type": "code",
   "execution_count": null,
   "metadata": {
    "_cell_guid": "3defcb33-0d60-4b23-9eaa-f9e8eecd3a88",
    "_uuid": "2856658f3342eb3bad9fe43dba93358e4a13e814"
   },
   "outputs": [],
   "source": [
    "corr = building_df.corr()\n",
    "\n",
    "g = sns.heatmap(corr,annot=True,cmap='coolwarm',linewidths=0.2,annot_kws={'size':20})\n",
    "g.set_xticklabels(g.get_xticklabels(), rotation = 90, fontsize = 8)\n",
    "fig=plt.gcf()\n",
    "fig.set_size_inches(14,10)\n",
    "plt.title(\"Building Characteristics Correlation\", fontsize=18)\n",
    "plt.xticks(fontsize=14)\n",
    "plt.yticks(fontsize=14)\n",
    "plt.show()"
   ]
  },
  {
   "cell_type": "code",
   "execution_count": null,
   "metadata": {
    "_cell_guid": "052ca14a-6ed3-44ea-ad00-db9d594eb917",
    "_uuid": "8e99f096023a26d68555e409513917a36174fa5f"
   },
   "outputs": [],
   "source": [
    "# To understand better our data I will create a category column for SalePrice.\n",
    "train['Price_Range'] = np.nan\n",
    "lst = [train]\n",
    "\n",
    "# Create a categorical variable for SalePrice\n",
    "# I am doing this for further visualizations.\n",
    "for column in lst:\n",
    "    column.loc[column['SalePrice'] < 150000, 'Price_Range'] = 'Low'\n",
    "    column.loc[(column['SalePrice'] >= 150000) & (column['SalePrice'] <= 300000), 'Price_Range'] = 'Medium'\n",
    "    column.loc[column['SalePrice'] > 300000, 'Price_Range'] = 'High'\n",
    "    \n",
    "train.head()"
   ]
  },
  {
   "cell_type": "markdown",
   "metadata": {
    "_cell_guid": "0b67cfcd-5746-47b2-8d7b-1330d393197b",
    "_uuid": "9965be480715f52dce4417e786fac897f7acb344"
   },
   "source": [
    "## What Garages tells us about each Price Category:\n",
    "<a id=\"garage\"></a>\n",
    "<img src=\"https://www.incimages.com/uploaded_files/image/970x450/garage-office-970_24019.jpg\">"
   ]
  },
  {
   "cell_type": "code",
   "execution_count": null,
   "metadata": {
    "_cell_guid": "a0fc4608-5222-43da-ad23-542070bfcb8f",
    "_uuid": "e20e37f793b815982c16d30b0ad3870b768ac702"
   },
   "outputs": [],
   "source": [
    "import matplotlib.pyplot as plt\n",
    "palette = [\"#9b59b6\", \"#BDBDBD\", \"#FF8000\"]\n",
    "sns.lmplot('GarageYrBlt', 'GarageArea', data=train, hue='Price_Range', fit_reg=False, size=7, palette=palette,\n",
    "          markers=[\"o\", \"s\", \"^\"])\n",
    "plt.title('Garage by Price Range', fontsize=18)\n",
    "plt.annotate('High Price \\nCategory Garages \\n are not that old', xy=(1997, 1100), xytext=(1950, 1200), \n",
    "            arrowprops=dict(facecolor='black', shrink=0.05))\n",
    "plt.show()"
   ]
  },
  {
   "cell_type": "markdown",
   "metadata": {
    "_cell_guid": "9268369a-6983-42a4-879a-3bb61536f080",
    "_uuid": "a2256ef96288b72b3fff13bf7b837049f3e33fcf"
   },
   "source": [
    "# Miscellaneous and Utilities:\n",
    "<a id=\"utilities\"></a>"
   ]
  },
  {
   "cell_type": "code",
   "execution_count": null,
   "metadata": {
    "_cell_guid": "22135021-afd1-43cf-8e49-3a0ff2ee9445",
    "_uuid": "402978c2f5d0f0870cee57efdb761ed1cf08333f"
   },
   "outputs": [],
   "source": [
    "plt.style.use('seaborn-white')\n",
    "types_foundations = train.groupby(['Price_Range', 'PavedDrive']).size()\n",
    "types_foundations.unstack().plot(kind='bar', stacked=True, colormap='Set1', figsize=(13,11), grid=False)\n",
    "plt.ylabel('Number of Streets', fontsize=16)\n",
    "plt.xlabel('Price Category', fontsize=16)\n",
    "plt.xticks(rotation=45, fontsize=12)\n",
    "plt.title('Condition of the Street by Price Category', fontsize=18)\n",
    "plt.show()"
   ]
  },
  {
   "cell_type": "code",
   "execution_count": null,
   "metadata": {
    "_cell_guid": "1e357ce6-b3e7-4bc0-9ecb-3aa41547056c",
    "_uuid": "6f9356a63e567869b3906a95843b64d2e375ff8d"
   },
   "outputs": [],
   "source": [
    "# We can see that CentralAir impacts until some extent the price of the house.\n",
    "\n",
    "fig, ((ax1, ax2), (ax3, ax4)) = plt.subplots(nrows=2, ncols=2, figsize=(14,10))\n",
    "plt.suptitle('Relationship between Saleprice \\n and Categorical Utilities', fontsize=18)\n",
    "sns.pointplot(x='CentralAir', y='SalePrice', hue='Price_Range', data=train, ax=ax1)\n",
    "sns.pointplot(x='Heating', y='SalePrice', hue='Price_Range', data=train, ax=ax2)\n",
    "sns.pointplot(x='Fireplaces', y='SalePrice', hue='Price_Range', data=train, ax=ax3)\n",
    "sns.pointplot(x='Electrical', y='SalePrice', hue='Price_Range', data=train, ax=ax4)\n",
    "\n",
    "plt.legend(loc='best')\n",
    "plt.show()"
   ]
  },
  {
   "cell_type": "code",
   "execution_count": null,
   "metadata": {
    "_cell_guid": "c37bd2e9-2bb4-446f-955a-4a61f3bb1780",
    "_uuid": "1707964c255934f901679a49dbd976b3e139a86d"
   },
   "outputs": [],
   "source": [
    "import seaborn as sns\n",
    "import matplotlib.pyplot as plt\n",
    "plt.style.use('seaborn-white')\n",
    "\n",
    "fig, ax = plt.subplots(figsize=(14,8))\n",
    "palette = [\"#9b59b6\", \"#3498db\", \"#95a5a6\", \"#e74c3c\", \"#34495e\", \"#2ecc71\", \"#FF8000\", \"#AEB404\", \"#FE2EF7\", \"#64FE2E\"]\n",
    "\n",
    "sns.swarmplot(x=\"OverallQual\", y=\"SalePrice\", data=train, ax=ax, palette=palette, linewidth=1)\n",
    "plt.title('Correlation between OverallQual and SalePrice', fontsize=18)\n",
    "plt.ylabel('Sale Price', fontsize=14)\n",
    "plt.show()"
   ]
  },
  {
   "cell_type": "markdown",
   "metadata": {
    "_cell_guid": "99ecf603-34fa-4ee7-bece-6edf56579494",
    "_uuid": "ecc231824aab0e21301e8bc959a468af1a629670"
   },
   "source": [
    "<h1 align=\"center\"> What determines the quality of the House? </h1>\n",
    "<a id=\"quality\"></a>\n",
    "\n",
    "Remember quality is the most important factor that contributes to the SalePrice of the house. <br>\n",
    "**Correlations with OverallQual:**<br>\n",
    "1) YearBuilt <br>\n",
    "2) TotalBsmtSF <br>\n",
    "3) GrLivArea <br>\n",
    "4) FullBath <br>\n",
    "5) GarageYrBuilt <br>\n",
    "6) GarageCars <br>\n",
    "7) GarageArea <br><br>"
   ]
  },
  {
   "cell_type": "markdown",
   "metadata": {
    "_cell_guid": "3977df8c-b6b6-47f0-9ef7-6a85e2cf050f",
    "_uuid": "893fb4f0caa60512f0352c4be17f80fa45b56c37"
   },
   "source": [
    "<img src=\"http://tibmadesignbuild.com/images/female-hands-framing-custom-kitchen-design.jpg\">\n",
    "\n",
    "## Interesting insights:\n",
    "<a id=\"interesting\"></a>\n",
    "1) **Overall Condition**: of the house or building, meaning that further remodelations are likely to happen in the future, either for reselling or to accumulate value in their real-estate.. <br>\n",
    "2) **Overall Quality**: The quality of the house is one of the factors that mostly impacts SalePrice. It seems that the overall material that is used for construction and the finish of the house has a great impact on SalePrice. <br>\n",
    "3) **Year Remodelation**: Houses in the **high** price range remodelled their houses sooner. The sooner the remodelation the higher the value of the house. <br>\n"
   ]
  },
  {
   "cell_type": "code",
   "execution_count": null,
   "metadata": {
    "_cell_guid": "9daf8cd0-7110-49ce-bd1f-f0c73029a4ff",
    "_uuid": "063e832325c06356c26cef82b91c39dd46168821"
   },
   "outputs": [],
   "source": [
    "with sns.plotting_context(\"notebook\",font_scale=2.8):\n",
    "    g = sns.pairplot(train, vars=[\"OverallCond\", \"OverallQual\", \"YearRemodAdd\", \"SalePrice\"],\n",
    "                hue=\"Price_Range\", palette=\"Dark2\", size=6)\n",
    "\n",
    "\n",
    "g.set(xticklabels=[]);\n",
    "\n",
    "plt.show()"
   ]
  },
  {
   "cell_type": "markdown",
   "metadata": {
    "_cell_guid": "425e24c3-233b-46ec-9d31-563af06fcdbe",
    "_uuid": "eeb007ed26b1f2c17ed8ee09558b8eaec51f496f"
   },
   "source": [
    "## Which Material Combination increased the Price of Houses?\n",
    "<a id=\"material\"></a>\n",
    "<ul>\n",
    "<li> <b>Roof Material</b>: <b>Hip</b> and <b>Gable</b> was the most expensive since people who bought <b>high value</b> houses tended to buy this material bor he rooftop.</li>\n",
    "<li> <b>House Material</b>: Houses made up of <b>stone</b> tend to influence positively the price of the house. (Except in 2007 for <b>High Price House Values. </b>)  </li>\n",
    "</ul>\n"
   ]
  },
  {
   "cell_type": "code",
   "execution_count": null,
   "metadata": {
    "_cell_guid": "fe77e25e-6b6c-4fc6-8d14-ce54db24da75",
    "_uuid": "5b8103aa4d84a3ce2f9a080bfa831febc05499d7"
   },
   "outputs": [],
   "source": [
    "# What type of material is considered to have a positive effect on the quality of the house?\n",
    "# Let's start with the roof material\n",
    "\n",
    "with sns.plotting_context(\"notebook\",font_scale=1):\n",
    "    g = sns.factorplot(x=\"SalePrice\", y=\"RoofStyle\", hue=\"Price_Range\",\n",
    "                   col=\"YrSold\", data=train, kind=\"box\", size=5, aspect=.75, sharex=False, col_wrap=3, orient=\"h\",\n",
    "                      palette='Set1');\n",
    "    for ax in g.axes.flatten(): \n",
    "        for tick in ax.get_xticklabels(): \n",
    "            tick.set(rotation=20)\n",
    "\n",
    "plt.show()"
   ]
  },
  {
   "cell_type": "markdown",
   "metadata": {
    "_cell_guid": "60fb58c9-239e-4257-ae12-47262b828887",
    "_uuid": "479286941f3eab9bcbf90bbb3ae4d0f232a9995b"
   },
   "source": [
    "**Note:** Interestingly, the Masonry Veneer type of stone became popular after 2007 for the houses that belong to the **high** Price Range category. I wonder why? <br>\n",
    "**For some reason during the year of 2007, the Saleprice of houses within the high range made of stone dropped drastically! \n",
    "\n"
   ]
  },
  {
   "cell_type": "code",
   "execution_count": null,
   "metadata": {
    "_cell_guid": "bbd9b8c2-1222-4e0c-9a45-e62755e96949",
    "_uuid": "f019b248b45203a2224184aae072af3b47803203"
   },
   "outputs": [],
   "source": [
    "with sns.plotting_context(\"notebook\",font_scale=1):\n",
    "    g = sns.factorplot(x=\"MasVnrType\", y=\"SalePrice\", hue=\"Price_Range\",\n",
    "                   col=\"YrSold\", data=train, kind=\"bar\", size=5, aspect=.75, sharex=False, col_wrap=3,\n",
    "                      palette=\"YlOrRd\");\n",
    "    \n",
    "plt.show()"
   ]
  },
  {
   "cell_type": "markdown",
   "metadata": {
    "_cell_guid": "2050ed7f-6aed-421b-b499-1770485cb16b",
    "_uuid": "256571deaec5bc97d1d23c978f2f261264ac36cc"
   },
   "source": [
    "<h1 align=\"center\"> Quality of Neighborhoods </h1>\n",
    "<a id=\"quality_neighborhoods\"></a>\n",
    "<img src=\"http://www.unitedwaydenver.org/sites/default/files/UN_neighborhood.jpg\">\n",
    "\n",
    "## Which Neighborhoods had the best Quality houses?\n",
    "<a id=\"which_neighborhoods\"></a>"
   ]
  },
  {
   "cell_type": "code",
   "execution_count": null,
   "metadata": {
    "_cell_guid": "243f1646-3239-49e2-a349-89d1aabe7e1c",
    "_uuid": "e4428cd36f331f349367bc68b567e6d75c8df279"
   },
   "outputs": [],
   "source": [
    "plt.style.use('seaborn-white')\n",
    "types_foundations = train.groupby(['Neighborhood', 'OverallQual']).size()\n",
    "types_foundations.unstack().plot(kind='bar', stacked=True, colormap='RdYlBu', figsize=(13,11), grid=False)\n",
    "plt.ylabel('Overall Price of the House', fontsize=16)\n",
    "plt.xlabel('Neighborhood', fontsize=16)\n",
    "plt.xticks(rotation=90, fontsize=12)\n",
    "plt.title('Overall Quality of the Neighborhoods', fontsize=18)\n",
    "plt.show()"
   ]
  },
  {
   "cell_type": "code",
   "execution_count": null,
   "metadata": {
    "_cell_guid": "c6348bed-ac97-4f2d-b657-ba871cc0a5a1",
    "_uuid": "77ee87f2455fb63fee906495fb587a83d94d7f27"
   },
   "outputs": [],
   "source": [
    "# Which houses neighborhoods remodeled the most.\n",
    "# price_categories = ['Low', 'Medium', 'High']\n",
    "# remod = train['YearRemodAdd'].groupby(train['Price_Range']).mean()\n",
    "\n",
    "fig, ax = plt.subplots(ncols=2, figsize=(16,4))\n",
    "plt.subplot(121)\n",
    "sns.pointplot(x=\"Price_Range\",  y=\"YearRemodAdd\", data=train, order=[\"Low\", \"Medium\", \"High\"], color=\"#0099ff\")\n",
    "plt.title(\"Average Remodeling by Price Category\", fontsize=16)\n",
    "plt.xlabel('Price Category', fontsize=14)\n",
    "plt.ylabel('Average Remodeling Year', fontsize=14)\n",
    "plt.xticks(rotation=90, fontsize=12)\n",
    "\n",
    "plt.subplot(122)\n",
    "sns.pointplot(x=\"Neighborhood\",  y=\"YearRemodAdd\", data=train, color=\"#ff9933\")\n",
    "plt.title(\"Average Remodeling by Neighborhood\", fontsize=16)\n",
    "plt.xlabel('Neighborhood', fontsize=14)\n",
    "plt.ylabel('')\n",
    "plt.xticks(rotation=90, fontsize=12)\n",
    "plt.show()"
   ]
  },
  {
   "cell_type": "markdown",
   "metadata": {
    "_cell_guid": "703dfdce-e604-4275-9039-57146e2e64ff",
    "_uuid": "e0e81b8ebd73bdf455e83672c096b978c4f3787e"
   },
   "source": [
    "## The Purpose of Log Transformations:\n",
    "<a id=\"log_transformations\"></a>\n",
    "The main reason why we use log transformation is to reduce **skewness** in our data. However, there are other reasons why we log transform  our data: <br>\n",
    "<ul>\n",
    "<li> Easier to interpret patterns of our data. </li>\n",
    "<li> For possible statistical analysis that require the data to be normalized.</li>\n",
    "</ul>"
   ]
  },
  {
   "cell_type": "code",
   "execution_count": null,
   "metadata": {
    "_cell_guid": "d6474adb-2d0f-4c73-9e7c-e5732d1313b7",
    "_uuid": "d90bbab56a752e09980326132adea02a15fc039e"
   },
   "outputs": [],
   "source": [
    "numeric_features = train.dtypes[train.dtypes != \"object\"].index\n",
    "\n",
    "# Top 5 most skewed features\n",
    "skewed_features = train[numeric_features].apply(lambda x: skew(x.dropna())).sort_values(ascending=False)\n",
    "skewness = pd.DataFrame({'Skew' :skewed_features})\n",
    "skewness.head(5)"
   ]
  },
  {
   "cell_type": "code",
   "execution_count": null,
   "metadata": {
    "_cell_guid": "c7d5ce49-5ae8-41d1-ba23-2a291f269ae0",
    "_uuid": "097a16f9376ae1e8d6457be75541a1cc12d88bb6"
   },
   "outputs": [],
   "source": [
    "from scipy.stats import norm\n",
    "\n",
    "# norm = a normal continous variable.\n",
    "\n",
    "log_style = np.log(train['SalePrice'])  # log of salesprice\n",
    "\n",
    "fig, ((ax1, ax2), (ax3, ax4)) = plt.subplots(nrows=2, ncols=2, figsize=(14,10))\n",
    "plt.suptitle('Probability Plots', fontsize=18)\n",
    "ax1 = sns.distplot(train['SalePrice'], color=\"#FA5858\", ax=ax1, fit=norm)\n",
    "ax1.set_title(\"Distribution of Sales Price with Positive Skewness\", fontsize=14)\n",
    "ax2 = sns.distplot(log_style, color=\"#58FA82\",ax=ax2, fit=norm)\n",
    "ax2.set_title(\"Normal Distibution with Log Transformations\", fontsize=14)\n",
    "ax3 = stats.probplot(train['SalePrice'], plot=ax3)\n",
    "ax4 = stats.probplot(log_style, plot=ax4)\n",
    "\n",
    "plt.show()"
   ]
  },
  {
   "cell_type": "markdown",
   "metadata": {
    "_cell_guid": "db8bec52-2ec2-4913-975d-aef616ec0c23",
    "_uuid": "9b45a50d5ff22e844ee9a29e2879e6b3b5049779"
   },
   "source": [
    "## Skewedness and Kurtosis:\n",
    "<a id=\"skew_kurt\"></a>\n",
    "**Skewedness**: <br>\n",
    "<ul>\n",
    "<li> A skewness of <b>zero</b> or near zero indicates a <b>symmetric distribution</b>.</li>\n",
    "<li> A <b>negative value</b> for the skewness indicate a <b>left skewness</b> (tail to the left) </li>\n",
    "<li> A <b>positive value</b> for te skewness indicate a <b> right skewness </b> (tail to the right) </li>\n",
    "<ul>"
   ]
  },
  {
   "cell_type": "markdown",
   "metadata": {
    "_cell_guid": "5168901c-4159-4313-b873-32e786ccab30",
    "_uuid": "7fa11c3fd2a19e49d21c904a2eb2ff3d40380f96"
   },
   "source": [
    "**Kurtosis**:\n",
    "<ul>\n",
    "<li><b>Kourtosis</b> is a measure of how extreme observations are in a dataset.</li>\n",
    "<li> The <b> greater the kurtosis coefficient </b>, the more peaked the distribution around the mean is. </li>\n",
    "<li><b>Greater coefficient</b> also means fatter tails, which means there is an increase in tail risk (extreme results) </li>\n",
    "</ul>\n",
    "\n",
    "**Reference**:\n",
    "Investopedia: https://www.investopedia.com/terms/m/mesokurtic.asp\n"
   ]
  },
  {
   "cell_type": "code",
   "execution_count": null,
   "metadata": {
    "_cell_guid": "cfb28d73-e55e-4072-bbbf-11c2ffed6f33",
    "_uuid": "dab54e7b727ec161090fbc9acf09f488617a2ce2"
   },
   "outputs": [],
   "source": [
    "print('Skewness for Normal D.: %f'% train['SalePrice'].skew())\n",
    "print('Skewness for Log D.: %f'% log_style.skew())\n",
    "print('Kurtosis for Normal D.: %f' % train['SalePrice'].kurt())\n",
    "print('Kurtosis for Log D.: %f' % log_style.kurt())"
   ]
  },
  {
   "cell_type": "markdown",
   "metadata": {
    "_cell_guid": "116d031b-68fa-4669-9f77-281d82124481",
    "_uuid": "244f8b117bf70048d742d7984d6669831e7e2065"
   },
   "source": [
    "# Outliers Analysis:\n",
    "<a id=\"analysis_outliers\"></a>\n",
    "**Analysis**:\n",
    "<ul>\n",
    "<li> The year of <b>2007</b> had the highest outliers (peak of the housing market before collapse). </li>\n",
    "<li>  The highest outliers are located in the <b> High category </b> of the Price_Range column.</li>\n",
    "</ul>"
   ]
  },
  {
   "cell_type": "code",
   "execution_count": null,
   "metadata": {
    "_cell_guid": "0c380a21-0b6d-4cc0-b671-2d7cc7b89127",
    "_uuid": "6d933503dd4bcfa447f51c3208e2ffb0e3078dfb"
   },
   "outputs": [],
   "source": [
    "# Most outliers are in the high price category nevertheless, in the year of 2007 saleprice of two houses look extremely high!\n",
    "\n",
    "fig = plt.figure(figsize=(12,8))\n",
    "ax = sns.boxplot(x=\"YrSold\", y=\"SalePrice\", hue='Price_Range', data=train)\n",
    "plt.title('Detecting outliers', fontsize=16)\n",
    "plt.xlabel('Year the House was Sold', fontsize=14)\n",
    "plt.ylabel('Price of the house', fontsize=14)\n",
    "plt.show()"
   ]
  },
  {
   "cell_type": "code",
   "execution_count": null,
   "metadata": {
    "_cell_guid": "15323cfc-e797-4070-b5be-bb54a683305c",
    "_uuid": "9dd053a3f05c23caae8380d97a670870050a3d53"
   },
   "outputs": [],
   "source": [
    "corr = train.corr()\n",
    "corr['SalePrice'].sort_values(ascending=False)[:11]"
   ]
  },
  {
   "cell_type": "markdown",
   "metadata": {
    "_cell_guid": "cb8cca18-6d66-4bb6-b760-aee9093bcdeb",
    "_uuid": "80cdd7b126e798e520e27bdab4adf7e36f6f2b17"
   },
   "source": [
    "## Bivariate Analysis (Detecting outliers through visualizations):\n",
    "<a id=\"bivariate\"></a>\n",
    "**There are some outliers in some of this columns but there might be a reason behind this, it is possible that these outliers in which the area is high but the price of the house is not that high, might be due to the reason that these houses are located in agricultural zones.**"
   ]
  },
  {
   "cell_type": "code",
   "execution_count": null,
   "metadata": {
    "_cell_guid": "3e93ad4a-2355-4172-949a-5c6d68cbc129",
    "_uuid": "34659c061e00804cb5304bf593c29a0918d57d75"
   },
   "outputs": [],
   "source": [
    "fig, ((ax1, ax2), (ax3, ax4))= plt.subplots(nrows=2, ncols=2, figsize=(14,8))\n",
    "var1 = 'GrLivArea'\n",
    "data = pd.concat([train['SalePrice'], train[var1]], axis=1)\n",
    "sns.regplot(x=var1, y='SalePrice', data=data, fit_reg=True, ax=ax1)\n",
    "\n",
    "\n",
    "var2 = 'GarageArea'\n",
    "data = pd.concat([train['SalePrice'], train[var2]], axis=1)\n",
    "sns.regplot(x=var2, y='SalePrice', data=data, fit_reg=True, ax=ax2, marker='s')\n",
    "\n",
    "var3 = 'TotalBsmtSF'\n",
    "data = pd.concat([train['SalePrice'], train[var3]], axis=1)\n",
    "sns.regplot(x=var3, y='SalePrice', data=data, fit_reg=True, ax=ax3, marker='^')\n",
    "\n",
    "var4 = '1stFlrSF'\n",
    "data = pd.concat([train['SalePrice'], train[var4]], axis=1)\n",
    "sns.regplot(x=var4, y='SalePrice', data=data, fit_reg=True, ax=ax4, marker='+')\n",
    "\n",
    "plt.show()"
   ]
  },
  {
   "cell_type": "markdown",
   "metadata": {
    "_cell_guid": "c77243c8-8d0b-452d-be15-56dd37f9cf47",
    "_uuid": "f095b123ce7fe0d209f40b8804a88c401a8a295b"
   },
   "source": [
    "<h1 align=\"center\"> Feature Engineering </h1>\n",
    "<a id=\"feature_engineering\"></a>\n",
    "## Dealing with Missing Values:\n",
    "<a id=\"missing_values\"></a>"
   ]
  },
  {
   "cell_type": "code",
   "execution_count": null,
   "metadata": {
    "_cell_guid": "dbefe68d-d72d-4869-9b11-59c1308179f7",
    "_uuid": "54125a784ec558d277a295195bfdba4885e84315"
   },
   "outputs": [],
   "source": [
    "y_train = train['SalePrice'].values\n",
    "# We will concatenate but we will split further on.\n",
    "rtrain = train.shape[0]\n",
    "ntest = test.shape[0]\n",
    "train.drop(['SalePrice', 'Price_Range', 'Id'], axis=1, inplace=True)\n",
    "test.drop('Id', axis=1, inplace=True)"
   ]
  },
  {
   "cell_type": "code",
   "execution_count": null,
   "metadata": {
    "_cell_guid": "de1cf174-9e35-4b1b-8144-5069b3186530",
    "_uuid": "d9689d00483ea635f4c612657cd117b70c724aa9"
   },
   "outputs": [],
   "source": [
    "complete_data = pd.concat([train, test])\n",
    "complete_data.shape"
   ]
  },
  {
   "cell_type": "code",
   "execution_count": null,
   "metadata": {
    "_cell_guid": "fe78d1fd-772e-4f10-b870-9ce0888bf10a",
    "_uuid": "61a51a6158c6cea5352d6a61eb0b3efec26bd99e"
   },
   "outputs": [],
   "source": [
    "total_nas = complete_data.isnull().sum().sort_values(ascending=False)\n",
    "percent_missing = (complete_data.isnull().sum()/complete_data.isnull().count()).sort_values(ascending=False)\n",
    "missing = pd.concat([total_nas, percent_missing], axis=1, keys=['Total_M', 'Percentage'])\n",
    "\n",
    "\n",
    "# missing.head(9) # We have 19 columns with NAs"
   ]
  },
  {
   "cell_type": "markdown",
   "metadata": {
    "_cell_guid": "aee2f1be-4344-4d90-93ca-0d9027e0463c",
    "_uuid": "824e23e3ada2cbaf4a581faaf76fafec1e518f97"
   },
   "source": [
    "## Transforming Missing Values:\n",
    "<a id=\"transforming_values\"></a>\n"
   ]
  },
  {
   "cell_type": "code",
   "execution_count": null,
   "metadata": {
    "_cell_guid": "c8d656e0-4fd0-4457-bb7e-b8ebd00b5725",
    "_uuid": "7352ea7dd1818c761c2a5c2fd99f78862671c464"
   },
   "outputs": [],
   "source": [
    "complete_data[\"PoolQC\"] = complete_data[\"PoolQC\"].fillna(\"None\")\n",
    "complete_data[\"MiscFeature\"] = complete_data[\"MiscFeature\"].fillna(\"None\")\n",
    "complete_data[\"Alley\"] = complete_data[\"Alley\"].fillna(\"None\")\n",
    "complete_data[\"Fence\"] = complete_data[\"Fence\"].fillna(\"None\")\n",
    "complete_data[\"FireplaceQu\"] = complete_data[\"FireplaceQu\"].fillna(\"None\")\n",
    "for col in ('GarageType', 'GarageFinish', 'GarageQual', 'GarageCond'):\n",
    "    complete_data[col] = complete_data[col].fillna('None')\n",
    "for col in ('BsmtQual', 'BsmtCond', 'BsmtExposure', 'BsmtFinType1', 'BsmtFinType2'):\n",
    "    complete_data[col] = complete_data[col].fillna('None')\n",
    "complete_data['MSZoning'] = complete_data['MSZoning'].fillna(complete_data['MSZoning'].mode()[0])\n",
    "complete_data[\"MasVnrType\"] = complete_data[\"MasVnrType\"].fillna(\"None\")\n",
    "complete_data[\"Functional\"] = complete_data[\"Functional\"].fillna(\"Typ\")\n",
    "complete_data['Electrical'] = complete_data['Electrical'].fillna(complete_data['Electrical'].mode()[0])\n",
    "complete_data['KitchenQual'] = complete_data['KitchenQual'].fillna(complete_data['KitchenQual'].mode()[0])\n",
    "complete_data['Exterior1st'] = complete_data['Exterior1st'].fillna(complete_data['Exterior1st'].mode()[0])\n",
    "complete_data['Exterior2nd'] = complete_data['Exterior2nd'].fillna(complete_data['Exterior2nd'].mode()[0])\n",
    "complete_data['SaleType'] = complete_data['SaleType'].fillna(complete_data['SaleType'].mode()[0])\n",
    "complete_data['MSSubClass'] = complete_data['MSSubClass'].fillna(\"None\")"
   ]
  },
  {
   "cell_type": "code",
   "execution_count": null,
   "metadata": {
    "_cell_guid": "869c05dc-5d4d-4fca-b229-50e7efb5afe2",
    "_uuid": "936c1e801685756352b217bac27e635a82302360"
   },
   "outputs": [],
   "source": [
    "# Group by neighborhood and fill in missing value by the median LotFrontage of all the neighborhood\n",
    "complete_data[\"LotFrontage\"] = complete_data.groupby(\"Neighborhood\")[\"LotFrontage\"].transform(\n",
    "    lambda x: x.fillna(x.median()))\n",
    "\n",
    "for col in ('GarageYrBlt', 'GarageArea', 'GarageCars'):\n",
    "    complete_data[col] = complete_data[col].fillna(0)\n",
    "    \n",
    "for col in ('BsmtFinSF1', 'BsmtFinSF2', 'BsmtUnfSF','TotalBsmtSF', 'BsmtFullBath', 'BsmtHalfBath'):\n",
    "    complete_data[col] = complete_data[col].fillna(0)\n",
    "    \n",
    "complete_data[\"MasVnrArea\"] = complete_data[\"MasVnrArea\"].fillna(0)"
   ]
  },
  {
   "cell_type": "code",
   "execution_count": null,
   "metadata": {
    "_cell_guid": "e32b904b-71b1-4f1d-b8fb-dda88d05ead9",
    "_uuid": "9c77e4ca6e65f45ec2a0e6e055d55f8f7c232a9a"
   },
   "outputs": [],
   "source": [
    "# Drop\n",
    "complete_data = complete_data.drop(['Utilities'], axis=1)"
   ]
  },
  {
   "cell_type": "markdown",
   "metadata": {
    "_cell_guid": "b901c4f7-2e13-474e-93cd-09ef04ed719b",
    "_uuid": "1cfa443cee4496ba76c9d5086a69b9d3d204b9ab"
   },
   "source": [
    "## Combining Attributes\n",
    "<a id=\"combining_atributes\"></a>"
   ]
  },
  {
   "cell_type": "code",
   "execution_count": null,
   "metadata": {
    "_cell_guid": "afa290bf-5ed7-40ef-982c-97b78a9b33a9",
    "_uuid": "bc53f619d77a6b06479e10ee2f05ff236a2cc20d"
   },
   "outputs": [],
   "source": [
    "# Adding total sqfootage feature \n",
    "complete_data['TotalSF'] = complete_data['TotalBsmtSF'] + complete_data['1stFlrSF'] + complete_data['2ndFlrSF']"
   ]
  },
  {
   "cell_type": "markdown",
   "metadata": {
    "_cell_guid": "437298f3-4212-4b68-ac7d-7af4ba1bd0e9",
    "_uuid": "cf323e92e0b9bdb90a47462a9d9dc4083dc62c38"
   },
   "source": [
    "## Dealing with Numerical and Categorical Values:\n",
    "<a id=\"num_cat_val\"></a>"
   ]
  },
  {
   "cell_type": "markdown",
   "metadata": {
    "_cell_guid": "12198e5a-e3a0-4f58-b15d-5490406ec6ae",
    "_uuid": "d86480c2937af244aa10f10d845de9156c2dc5b2"
   },
   "source": [
    "## Transforming our Data:\n",
    "<ul>\n",
    "<li> Separate the <b> features </b> and <b> labels </b> from the training dataset. </li>\n",
    "<li> Separate <b> numeric </b> and <b> categorical </b> variables for the purpose of running them in separate pipelines and scaling them with their respective scalers. </li>\n",
    "\n",
    "</ul>"
   ]
  },
  {
   "cell_type": "code",
   "execution_count": null,
   "metadata": {
    "_cell_guid": "1b8ed912-6e85-4c98-a57c-cf25b6264919",
    "_uuid": "d3c56bc3c0b804d0b2013b139340d60662babfc5"
   },
   "outputs": [],
   "source": [
    "complete_data.head()"
   ]
  },
  {
   "cell_type": "code",
   "execution_count": null,
   "metadata": {
    "_cell_guid": "a1304790-d245-4d84-8e9d-c668ab8c4d73",
    "_uuid": "65c485814e967f638ab70483a9d9660116f6dfcb"
   },
   "outputs": [],
   "source": [
    "# splitting categorical variables with numerical variables for encoding.\n",
    "categorical = complete_data.select_dtypes(['object'])\n",
    "numerical = complete_data.select_dtypes(exclude=['object'])\n",
    "\n",
    "print(categorical.shape)\n",
    "print(numerical.shape)"
   ]
  },
  {
   "cell_type": "markdown",
   "metadata": {
    "_cell_guid": "146dfde7-e796-4d82-a319-ed7ea75adee8",
    "_uuid": "e18d1b3dff5983a4b3b80aeb22a9c24964832394"
   },
   "source": [
    "## Categorical Encoding Class:\n",
    "<a id=\"categorical_class\"></a>\n",
    "This is a way to encode our features in a way that it avoids the assumption that two nearby values are more similar than two distant values. This is the reason we should avoid using LabelEncoder to scale features (inputs) in our dataset and in addition the word **LabelEncoder** is used for scaling labels (outputs). This could be used more often in **binary classification problems** were no *association* exists between the outputs."
   ]
  },
  {
   "cell_type": "code",
   "execution_count": null,
   "metadata": {
    "_cell_guid": "84ec7a4e-6bf8-42bc-85f5-ee2e26f336f9",
    "_uuid": "68fddce5f01fdeef1aa01a9a052a81cbc2453cba"
   },
   "outputs": [],
   "source": [
    "\n",
    "from sklearn.base import BaseEstimator, TransformerMixin\n",
    "from sklearn.utils import check_array\n",
    "from sklearn.preprocessing import LabelEncoder\n",
    "from scipy import sparse\n",
    "\n",
    "class CategoricalEncoder(BaseEstimator, TransformerMixin):\n",
    "    \"\"\"Encode categorical features as a numeric array.\n",
    "    The input to this transformer should be a matrix of integers or strings,\n",
    "    denoting the values taken on by categorical (discrete) features.\n",
    "    The features can be encoded using a one-hot aka one-of-K scheme\n",
    "    (``encoding='onehot'``, the default) or converted to ordinal integers\n",
    "    (``encoding='ordinal'``).\n",
    "    This encoding is needed for feeding categorical data to many scikit-learn\n",
    "    estimators, notably linear models and SVMs with the standard kernels.\n",
    "    Read more in the :ref:`User Guide <preprocessing_categorical_features>`.\n",
    "    Parameters\n",
    "    ----------\n",
    "    encoding : str, 'onehot', 'onehot-dense' or 'ordinal'\n",
    "        The type of encoding to use (default is 'onehot'):\n",
    "        - 'onehot': encode the features using a one-hot aka one-of-K scheme\n",
    "          (or also called 'dummy' encoding). This creates a binary column for\n",
    "          each category and returns a sparse matrix.\n",
    "        - 'onehot-dense': the same as 'onehot' but returns a dense array\n",
    "          instead of a sparse matrix.\n",
    "        - 'ordinal': encode the features as ordinal integers. This results in\n",
    "          a single column of integers (0 to n_categories - 1) per feature.\n",
    "    categories : 'auto' or a list of lists/arrays of values.\n",
    "        Categories (unique values) per feature:\n",
    "        - 'auto' : Determine categories automatically from the training data.\n",
    "        - list : ``categories[i]`` holds the categories expected in the ith\n",
    "          column. The passed categories are sorted before encoding the data\n",
    "          (used categories can be found in the ``categories_`` attribute).\n",
    "    dtype : number type, default np.float64\n",
    "        Desired dtype of output.\n",
    "    handle_unknown : 'error' (default) or 'ignore'\n",
    "        Whether to raise an error or ignore if a unknown categorical feature is\n",
    "        present during transform (default is to raise). When this is parameter\n",
    "        is set to 'ignore' and an unknown category is encountered during\n",
    "        transform, the resulting one-hot encoded columns for this feature\n",
    "        will be all zeros.\n",
    "        Ignoring unknown categories is not supported for\n",
    "        ``encoding='ordinal'``.\n",
    "    Attributes\n",
    "    ----------\n",
    "    categories_ : list of arrays\n",
    "        The categories of each feature determined during fitting. When\n",
    "        categories were specified manually, this holds the sorted categories\n",
    "        (in order corresponding with output of `transform`).\n",
    "    Examples\n",
    "    --------\n",
    "    Given a dataset with three features and two samples, we let the encoder\n",
    "    find the maximum value per feature and transform the data to a binary\n",
    "    one-hot encoding.\n",
    "    >>> from sklearn.preprocessing import CategoricalEncoder\n",
    "    >>> enc = CategoricalEncoder(handle_unknown='ignore')\n",
    "    >>> enc.fit([[0, 0, 3], [1, 1, 0], [0, 2, 1], [1, 0, 2]])\n",
    "    ... # doctest: +ELLIPSIS\n",
    "    CategoricalEncoder(categories='auto', dtype=<... 'numpy.float64'>,\n",
    "              encoding='onehot', handle_unknown='ignore')\n",
    "    >>> enc.transform([[0, 1, 1], [1, 0, 4]]).toarray()\n",
    "    array([[ 1.,  0.,  0.,  1.,  0.,  0.,  1.,  0.,  0.],\n",
    "           [ 0.,  1.,  1.,  0.,  0.,  0.,  0.,  0.,  0.]])\n",
    "    See also\n",
    "    --------\n",
    "    sklearn.preprocessing.OneHotEncoder : performs a one-hot encoding of\n",
    "      integer ordinal features. The ``OneHotEncoder assumes`` that input\n",
    "      features take on values in the range ``[0, max(feature)]`` instead of\n",
    "      using the unique values.\n",
    "    sklearn.feature_extraction.DictVectorizer : performs a one-hot encoding of\n",
    "      dictionary items (also handles string-valued features).\n",
    "    sklearn.feature_extraction.FeatureHasher : performs an approximate one-hot\n",
    "      encoding of dictionary items or strings.\n",
    "    \"\"\"\n",
    "\n",
    "    def __init__(self, encoding='onehot', categories='auto', dtype=np.float64,\n",
    "                 handle_unknown='error'):\n",
    "        self.encoding = encoding\n",
    "        self.categories = categories\n",
    "        self.dtype = dtype\n",
    "        self.handle_unknown = handle_unknown\n",
    "\n",
    "    def fit(self, X, y=None):\n",
    "        \"\"\"Fit the CategoricalEncoder to X.\n",
    "        Parameters\n",
    "        ----------\n",
    "        X : array-like, shape [n_samples, n_feature]\n",
    "            The data to determine the categories of each feature.\n",
    "        Returns\n",
    "        -------\n",
    "        self\n",
    "        \"\"\"\n",
    "\n",
    "        if self.encoding not in ['onehot', 'onehot-dense', 'ordinal']:\n",
    "            template = (\"encoding should be either 'onehot', 'onehot-dense' \"\n",
    "                        \"or 'ordinal', got %s\")\n",
    "            raise ValueError(template % self.handle_unknown)\n",
    "\n",
    "        if self.handle_unknown not in ['error', 'ignore']:\n",
    "            template = (\"handle_unknown should be either 'error' or \"\n",
    "                        \"'ignore', got %s\")\n",
    "            raise ValueError(template % self.handle_unknown)\n",
    "\n",
    "        if self.encoding == 'ordinal' and self.handle_unknown == 'ignore':\n",
    "            raise ValueError(\"handle_unknown='ignore' is not supported for\"\n",
    "                             \" encoding='ordinal'\")\n",
    "\n",
    "        X = check_array(X, dtype=np.object, accept_sparse='csc', copy=True)\n",
    "        n_samples, n_features = X.shape\n",
    "\n",
    "        self._label_encoders_ = [LabelEncoder() for _ in range(n_features)]\n",
    "\n",
    "        for i in range(n_features):\n",
    "            le = self._label_encoders_[i]\n",
    "            Xi = X[:, i]\n",
    "            if self.categories == 'auto':\n",
    "                le.fit(Xi)\n",
    "            else:\n",
    "                valid_mask = np.in1d(Xi, self.categories[i])\n",
    "                if not np.all(valid_mask):\n",
    "                    if self.handle_unknown == 'error':\n",
    "                        diff = np.unique(Xi[~valid_mask])\n",
    "                        msg = (\"Found unknown categories {0} in column {1}\"\n",
    "                               \" during fit\".format(diff, i))\n",
    "                        raise ValueError(msg)\n",
    "                le.classes_ = np.array(np.sort(self.categories[i]))\n",
    "\n",
    "        self.categories_ = [le.classes_ for le in self._label_encoders_]\n",
    "\n",
    "        return self\n",
    "\n",
    "    def transform(self, X):\n",
    "        \"\"\"Transform X using one-hot encoding.\n",
    "        Parameters\n",
    "        ----------\n",
    "        X : array-like, shape [n_samples, n_features]\n",
    "            The data to encode.\n",
    "        Returns\n",
    "        -------\n",
    "        X_out : sparse matrix or a 2-d array\n",
    "            Transformed input.\n",
    "        \"\"\"\n",
    "        X = check_array(X, accept_sparse='csc', dtype=np.object, copy=True)\n",
    "        n_samples, n_features = X.shape\n",
    "        X_int = np.zeros_like(X, dtype=np.int)\n",
    "        X_mask = np.ones_like(X, dtype=np.bool)\n",
    "\n",
    "        for i in range(n_features):\n",
    "            valid_mask = np.in1d(X[:, i], self.categories_[i])\n",
    "\n",
    "            if not np.all(valid_mask):\n",
    "                if self.handle_unknown == 'error':\n",
    "                    diff = np.unique(X[~valid_mask, i])\n",
    "                    msg = (\"Found unknown categories {0} in column {1}\"\n",
    "                           \" during transform\".format(diff, i))\n",
    "                    raise ValueError(msg)\n",
    "                else:\n",
    "                    # Set the problematic rows to an acceptable value and\n",
    "                    # continue `The rows are marked `X_mask` and will be\n",
    "                    # removed later.\n",
    "                    X_mask[:, i] = valid_mask\n",
    "                    X[:, i][~valid_mask] = self.categories_[i][0]\n",
    "            X_int[:, i] = self._label_encoders_[i].transform(X[:, i])\n",
    "\n",
    "        if self.encoding == 'ordinal':\n",
    "            return X_int.astype(self.dtype, copy=False)\n",
    "\n",
    "        mask = X_mask.ravel()\n",
    "        n_values = [cats.shape[0] for cats in self.categories_]\n",
    "        n_values = np.array([0] + n_values)\n",
    "        indices = np.cumsum(n_values)\n",
    "\n",
    "        column_indices = (X_int + indices[:-1]).ravel()[mask]\n",
    "        row_indices = np.repeat(np.arange(n_samples, dtype=np.int32),\n",
    "                                n_features)[mask]\n",
    "        data = np.ones(n_samples * n_features)[mask]\n",
    "\n",
    "        out = sparse.csc_matrix((data, (row_indices, column_indices)),\n",
    "                                shape=(n_samples, indices[-1]),\n",
    "                                dtype=self.dtype).tocsr()\n",
    "        if self.encoding == 'onehot-dense':\n",
    "            return out.toarray()\n",
    "        else:\n",
    "            return out"
   ]
  },
  {
   "cell_type": "markdown",
   "metadata": {
    "_cell_guid": "50b4a15f-b21f-4dab-b522-f8f05997060f",
    "_uuid": "08fac02446cb084512e1c0a25baf68cc42bb975d"
   },
   "source": [
    "## Combine Attribute Class:\n",
    "<a id=\"combining\"></a>\n",
    "This class will help us to include the total area variable into our pipeline for further scaling."
   ]
  },
  {
   "cell_type": "code",
   "execution_count": null,
   "metadata": {
    "_cell_guid": "efe1afb9-76d8-4a7c-adf7-9aeec3d21c1e",
    "_uuid": "e2e00985162f30c8b87c493cea532ca17101e78f"
   },
   "outputs": [],
   "source": [
    "from sklearn.base import BaseEstimator, TransformerMixin\n",
    "\n",
    "# class combination attribute.\n",
    "# First we need to know the index possition of the other cloumns that make the attribute.\n",
    "numerical.columns.get_loc(\"TotalBsmtSF\") # Index Number 37\n",
    "numerical.columns.get_loc(\"1stFlrSF\") # Index NUmber 42\n",
    "numerical.columns.get_loc(\"2ndFlrSF\") # Index NUmber 43\n",
    "\n",
    "ix_total, ix_first, ix_second = 9, 10, 11\n",
    "# complete_data['TotalSF'] = complete_data['TotalBsmtSF'] + complete_data['1stFlrSF'] + complete_data['2ndFlrSF']\n",
    "\n",
    "class CombineAttributes(BaseEstimator, TransformerMixin):\n",
    "    \n",
    "    def __init__(self, total_area=True): # No args or kargs\n",
    "        self.total_area = total_area\n",
    "        \n",
    "    def fit(self, X, y=None):\n",
    "        return self \n",
    "    \n",
    "    def transform(self, X, y=None):\n",
    "        total_sf = X[:,ix_total] + X[:,ix_first] + X[:,ix_second]\n",
    "        if self.total_area:\n",
    "            return np.c_[X, total_sf]\n",
    "        else: \n",
    "            return np.c_[X]\n",
    "\n",
    "attr_adder = CombineAttributes(total_area=True)\n",
    "extra_attribs = attr_adder.transform(complete_data.values)"
   ]
  },
  {
   "cell_type": "code",
   "execution_count": null,
   "metadata": {
    "_cell_guid": "c81d0992-e5a8-447a-9bc5-12d88ffae1bd",
    "_uuid": "0e544587a7019e447023edbc660bf7dcc5f1265d"
   },
   "outputs": [],
   "source": [
    "# Scikit-Learn does not handle dataframes in pipeline so we will create our own class.\n",
    "# Reference: Hands-On Machine Learning\n",
    "from sklearn.base import BaseEstimator, TransformerMixin\n",
    "# Create a class to select numerical or cateogrical columns.\n",
    "class DataFrameSelector(BaseEstimator, TransformerMixin):\n",
    "    def __init__(self, attribute_names):\n",
    "        self.attribute_names = attribute_names\n",
    "    def fit (self, X, y=None):\n",
    "        return self\n",
    "    def transform(self, X):\n",
    "        return X[self.attribute_names].values"
   ]
  },
  {
   "cell_type": "markdown",
   "metadata": {
    "_cell_guid": "9f9375b0-ee58-4f08-b94c-b9bd7594e3ac",
    "_uuid": "ebe88610a875c14db02370c5c735090d120c4dbc"
   },
   "source": [
    "## Pipelines:\n",
    "<a id=\"pipelines\"></a> \n",
    "\n",
    "Create our numerical and cateogircal pipelines to scale our features."
   ]
  },
  {
   "cell_type": "code",
   "execution_count": null,
   "metadata": {
    "_cell_guid": "3bd281a4-6358-411a-be67-78a5078f108a",
    "_uuid": "5a850ab511119c69d06855e6505ae5c1ea42c40a"
   },
   "outputs": [],
   "source": [
    "from sklearn.pipeline import Pipeline\n",
    "from sklearn.preprocessing import StandardScaler\n",
    "\n",
    "lst_numerical = list(numerical)\n",
    "\n",
    "numeric_pipeline = Pipeline([\n",
    "    ('selector', DataFrameSelector(lst_numerical)),\n",
    "    ('extra attributes', CombineAttributes()),\n",
    "    ('std_scaler', StandardScaler()),\n",
    "])\n",
    "\n",
    "categorical_pipeline = Pipeline([\n",
    "    ('selector', DataFrameSelector(['MSZoning', 'Street', 'LotShape', 'LandContour', 'LotConfig', 'LandSlope', \n",
    "                                    'Neighborhood', 'Condition1', 'Condition2','BldgType', 'HouseStyle', 'RoofStyle',\n",
    "                                    'RoofMatl', 'Exterior1st',  'Exterior2nd','ExterQual','ExterCond', 'Foundation',\n",
    "                                    'Heating','HeatingQC', 'CentralAir', 'Electrical', 'KitchenQual', 'Functional',\n",
    "                                    'PavedDrive', 'SaleType', 'SaleCondition'])),\n",
    "    ('encoder', CategoricalEncoder(encoding=\"onehot-dense\")),\n",
    "])"
   ]
  },
  {
   "cell_type": "code",
   "execution_count": null,
   "metadata": {
    "_cell_guid": "9a9f7bd5-41a8-4033-8325-52575e8dd96e",
    "_uuid": "92a6c79bb863ddb3f6ffaa3bc0438ec2b68c9080"
   },
   "outputs": [],
   "source": [
    "# Combine our pipelines!\n",
    "from sklearn.pipeline import FeatureUnion\n",
    "\n",
    "main_pipeline = FeatureUnion(transformer_list=[\n",
    "    ('num_pipeline', numeric_pipeline),\n",
    "    ('cat_pipeline', categorical_pipeline)\n",
    "])\n",
    "\n",
    "data_prepared = main_pipeline.fit_transform(complete_data)\n",
    "data_prepared"
   ]
  },
  {
   "cell_type": "code",
   "execution_count": null,
   "metadata": {
    "_cell_guid": "e9abd64d-8f4f-44d0-adcc-7e4411d8edf8",
    "_uuid": "7c0cd7c49c578e7b04e941998a6354206ccb2fbd"
   },
   "outputs": [],
   "source": [
    "features = data_prepared\n",
    "labels = np.log1p(y_train) # Scaling the Saleprice column.\n",
    "\n",
    "train_scaled = features[:rtrain] \n",
    "test_scaled = features[rtrain:]"
   ]
  },
  {
   "cell_type": "markdown",
   "metadata": {
    "_cell_guid": "46b9e444-95d7-47ba-8daa-fae5716490fd",
    "_uuid": "84beb256996094d60de193f6d310ed40d5693dc8"
   },
   "source": [
    "<h1 align=\"center\"> Implementing Predictive Models </h1>\n",
    "\n",
    "<img src=\"http://precisionanalytica.com/blog/wp-content/uploads/2014/09/Predictive-Modeling.jpg\">\n",
    "\n",
    "## Residual Plot:\n",
    "<a id=\"residual_plot\"></a>\n",
    "<ul>\n",
    "<li><b>Residual plots</b> will give us more or less the actual prediction errors our models are making. In this example, I will use <b>yellowbrick library</b> (statistical visualizations for machine learning) and a simple linear regression model.  In our <b>legends</b> of the residual plot it says training and test data but in this scenario instead of the test set it is the <b>validation set</b> we are using. [If there is a possibility to change the name of the legend to validation I will make the update whenever possible.</li>\n",
    "<li> Create a validation set within the training set to actually predict values. (Remember the test set does not have the training price, and also when testing data it should be done during the last instance of the project.) </li>\n",
    "\n",
    "</ul>"
   ]
  },
  {
   "cell_type": "code",
   "execution_count": null,
   "metadata": {
    "_cell_guid": "74353242-ae2e-4c3c-966f-5994d112c13e",
    "_uuid": "62fe6aec0e3f66b7a03a640c290c224f670bc3db"
   },
   "outputs": [],
   "source": [
    "from sklearn.linear_model import ElasticNet, Lasso,  BayesianRidge, LassoLarsIC\n",
    "from sklearn.ensemble import RandomForestRegressor,  GradientBoostingRegressor\n",
    "from sklearn.kernel_ridge import KernelRidge\n",
    "from sklearn.pipeline import make_pipeline\n",
    "from sklearn.preprocessing import RobustScaler\n",
    "from sklearn.base import BaseEstimator, TransformerMixin, RegressorMixin, clone\n",
    "from sklearn.model_selection import KFold, cross_val_score, train_test_split\n",
    "from sklearn.metrics import mean_squared_error\n",
    "import xgboost as xgb\n",
    "from sklearn.linear_model import Ridge\n",
    "from yellowbrick.regressor import PredictionError, ResidualsPlot"
   ]
  },
  {
   "cell_type": "code",
   "execution_count": null,
   "metadata": {
    "_cell_guid": "bc745f6c-89f1-460a-ae9a-6c89b7ff413b",
    "_uuid": "b34089f383b5c9ca58274d7dc09f9f2ff0eba4dd"
   },
   "outputs": [],
   "source": [
    "# This is data that comes from the training test.\n",
    "X_train, X_val, y_train, y_val = train_test_split(train_scaled, labels, test_size=0.25, random_state=42)\n"
   ]
  },
  {
   "cell_type": "code",
   "execution_count": null,
   "metadata": {
    "_cell_guid": "4018e6c1-a791-4c76-b5e1-d2889e4abe05",
    "_uuid": "49cd7cb88a92f4516a965e391b742daac6d20c59"
   },
   "outputs": [],
   "source": [
    "# Our validation set tends to perform better. Less Residuals.\n",
    "ridge = Ridge()\n",
    "visualizer = ResidualsPlot(ridge, train_color='#045FB4', test_color='r', line_color='#424242')\n",
    "visualizer.fit(X_train, y_train)  # Fit the training data to the visualizer\n",
    "visualizer.score(X_val, y_val)\n",
    "g = visualizer.poof(outpath=\"residual_plot\")"
   ]
  },
  {
   "cell_type": "code",
   "execution_count": null,
   "metadata": {
    "_cell_guid": "9c508d75-3986-40f8-bc89-e4fa9fe67d81",
    "_uuid": "19f080d2d25613bd2dcf308dcf8e13d5888dd564"
   },
   "outputs": [],
   "source": [
    "#Validation function\n",
    "n_folds = 5\n",
    "\n",
    "def rmsle_cv(model, features, labels):\n",
    "    kf = KFold(n_folds, shuffle=True, random_state=42).get_n_splits(features) # Shuffle the data.\n",
    "    rmse= np.sqrt(-cross_val_score(model, features, labels, scoring=\"neg_mean_squared_error\", cv = kf))\n",
    "    return(rmse.mean())"
   ]
  },
  {
   "cell_type": "code",
   "execution_count": null,
   "metadata": {
    "_cell_guid": "32daeebd-c98a-4ced-b776-3019055d29dd",
    "_uuid": "1c81226155771c0ddcd5c5c46c36f200876c1a5d"
   },
   "outputs": [],
   "source": [
    "rid_reg = Ridge()\n",
    "rid_reg.fit(X_train, y_train)\n",
    "y_pred = rid_reg.predict(X_val)\n",
    "rmsle_cv(rid_reg, X_val, y_val)"
   ]
  },
  {
   "cell_type": "code",
   "execution_count": null,
   "metadata": {
    "_cell_guid": "0685c1e5-acda-4e5c-9718-ac9d652d7180",
    "_uuid": "79923eb111f9cc3de3692ea3fde16ee3c67d3082"
   },
   "outputs": [],
   "source": []
  },
  {
   "cell_type": "markdown",
   "metadata": {
    "_cell_guid": "8709f187-2d9f-4c9b-9a43-25eb0537a931",
    "_uuid": "2acc40d953a273b297704e0cf016c756a9bfb2cc"
   },
   "source": [
    "### RandomForestRegressor:\n",
    "<a id=\"random_forest\"></a> \n",
    "<img src=\"https://techblog.expedia.com/wp-content/uploads/2017/06/BoostedTreeExample.jpg\">\n",
    "**RandomForestRegressor** gives us more randomness, insead of searching through impurity the best feature, RandomForest picks features in a randomly manner to reduce variance at the expense of a higher bias. Nevertheless, this helps us find what the trend is. After all the trees have predicted the outcome for a specific instance, the average from all the DecisionTree models is taken and that will be the prediction for a specific instance."
   ]
  },
  {
   "cell_type": "code",
   "execution_count": null,
   "metadata": {
    "_cell_guid": "aa14ba95-a92c-433e-8c61-08503c191067",
    "_uuid": "2342501a592756832501c67df533fac252f37ad5"
   },
   "outputs": [],
   "source": [
    "from sklearn.model_selection import GridSearchCV\n",
    "\n",
    "params = {'n_estimators': list(range(50, 200, 25)), 'max_features': ['auto', 'sqrt', 'log2'], \n",
    "         'min_samples_leaf': list(range(50, 200, 50))}\n",
    "\n",
    "grid_search_cv = GridSearchCV(RandomForestRegressor(random_state=42), params, n_jobs=-1)\n",
    "grid_search_cv.fit(X_train, y_train)"
   ]
  },
  {
   "cell_type": "code",
   "execution_count": null,
   "metadata": {
    "_cell_guid": "dd56337b-bc0e-4da1-b187-a13c36283336",
    "_uuid": "504eceaf309d72747ee32c42a283573b33f7b177"
   },
   "outputs": [],
   "source": [
    "grid_search_cv.best_estimator_"
   ]
  },
  {
   "cell_type": "code",
   "execution_count": null,
   "metadata": {
    "_cell_guid": "b974254e-aa49-4a94-8bd5-43cbaf871379",
    "_uuid": "17eb2e3749e012037ac1067028b00d7319299778"
   },
   "outputs": [],
   "source": [
    "# Show best parameters.\n",
    "grid_search_cv.best_params_"
   ]
  },
  {
   "cell_type": "code",
   "execution_count": null,
   "metadata": {
    "_cell_guid": "3a150e67-6cb2-4b8c-a493-2a53b3acb982",
    "_uuid": "e0cd3b6ee6ff37827567fe0dfc30fb76ae7ac1cc"
   },
   "outputs": [],
   "source": [
    "# You can check the results with this functionof grid search.\n",
    "# RandomSearchCV takes just a sample not all possible combinations like GridSearchCV.\n",
    "# Mean test score is equivalent to 0.2677\n",
    "grid_search_cv.cv_results_\n",
    "df_results = pd.DataFrame(grid_search_cv.cv_results_)\n",
    "df_results.sort_values(by='mean_test_score', ascending=True).head(2)"
   ]
  },
  {
   "cell_type": "code",
   "execution_count": null,
   "metadata": {
    "_cell_guid": "0a070ecf-121f-47da-bf54-27347b392919",
    "_uuid": "7645089595ee6389e25ffa12640787b15d79d95d"
   },
   "outputs": [],
   "source": [
    "rand_model = grid_search_cv.best_estimator_\n",
    "\n",
    "rand_model.fit(X_train, y_train)"
   ]
  },
  {
   "cell_type": "code",
   "execution_count": null,
   "metadata": {
    "_cell_guid": "df44ca07-5be7-4d3d-b6e9-d295d0431887",
    "_uuid": "1ad4024ee2ec9ab425ef33dd81c1fd6643d61b98"
   },
   "outputs": [],
   "source": [
    "# Final root mean squared error.\n",
    "y_pred = rand_model.predict(X_val)\n",
    "rand_mse = mean_squared_error(y_val, y_pred)\n",
    "rand_rmse = np.sqrt(rand_mse)\n",
    "rand_rmse"
   ]
  },
  {
   "cell_type": "code",
   "execution_count": null,
   "metadata": {
    "_cell_guid": "c0510209-f600-4a8b-b862-f2cc6caa4cba",
    "_uuid": "0bbd759fc6e4efd7c38cb8fcde1b45a02a2255fc"
   },
   "outputs": [],
   "source": [
    "# It was overfitting a bit.\n",
    "score = rmsle_cv(rand_model, X_val, y_val)\n",
    "print(\"Random Forest score: {:.4f}\\n\".format(score))"
   ]
  },
  {
   "cell_type": "code",
   "execution_count": null,
   "metadata": {
    "_cell_guid": "5f2ef30c-73e0-4ea8-9a2c-4cd39bd22f50",
    "_uuid": "10679dbe71cea057537db892bbd1960ca0800414"
   },
   "outputs": [],
   "source": [
    "# Display scores next to attribute names.\n",
    "# Reference Hands-On Machine Learning with Scikit Learn and Tensorflow\n",
    "attributes = X_train\n",
    "rand_results = rand_model.feature_importances_\n",
    "cat_encoder = categorical_pipeline.named_steps[\"encoder\"]\n",
    "cat_features = list(cat_encoder.categories_[0])\n",
    "total_features = lst_numerical + cat_features\n",
    "feature_importance = sorted(zip(rand_results, total_features), reverse=True)\n",
    "feature_arr = np.array(feature_importance)\n",
    "# Top 10 features.\n",
    "feature_scores = feature_arr[:,0][:10].astype(float)\n",
    "feature_names = feature_arr[:,1][:10].astype(str)\n",
    "\n",
    "\n",
    "d = {'feature_names': feature_names, 'feature_scores': feature_scores}\n",
    "result_df = pd.DataFrame(data=d)\n",
    "\n",
    "fig, ax = plt.subplots(figsize=(12,8))\n",
    "ax = sns.barplot(x='feature_names', y='feature_scores', data=result_df, palette=\"coolwarm\")\n",
    "plt.title('RandomForestRegressor Feature Importances', fontsize=16)\n",
    "plt.xlabel('Names of the Features', fontsize=14)\n",
    "plt.ylabel('Feature Scores', fontsize=14)"
   ]
  },
  {
   "cell_type": "markdown",
   "metadata": {
    "_cell_guid": "87328362-909a-4b95-a95e-07b0a5dbdb44",
    "_uuid": "943d5724022bd996b299751188830f250c9efe64"
   },
   "source": [
    "## GradientBoostingRegressor:\n",
    "<img src=\"https://image.slidesharecdn.com/slides-140224130205-phpapp02/95/gradient-boosted-regression-trees-in-scikitlearn-21-638.jpg?cb=1393247097\">\n",
    "<a id=\"gradient_boosting\"></a>\n",
    "The Gradient Boosting Regressor class trains the models over the residuals (prediction errors) leading to smaller variances and higher accuracy.  "
   ]
  },
  {
   "cell_type": "code",
   "execution_count": null,
   "metadata": {
    "_cell_guid": "54559c0c-c141-46b1-a558-922186c3f779",
    "_uuid": "c3930ca569d68634af09da729ed909317e4513f2"
   },
   "outputs": [],
   "source": [
    "params = {'learning_rate': [0.05], 'loss': ['huber'], 'max_depth': [2], 'max_features': ['log2'], 'min_samples_leaf': [14], \n",
    "          'min_samples_split': [10], 'n_estimators': [3000]}\n",
    "\n",
    "\n",
    "grad_boost = GradientBoostingRegressor(learning_rate=0.05, loss='huber', max_depth=2, \n",
    "                                       max_features='log2', min_samples_leaf=14, min_samples_split=10, n_estimators=3000,\n",
    "                                       random_state=42)\n",
    "\n",
    "\n",
    "grad_boost.fit(X_train, y_train)"
   ]
  },
  {
   "cell_type": "code",
   "execution_count": null,
   "metadata": {
    "_cell_guid": "14b81859-359f-4b48-b2b5-7a7ba8bde659",
    "_uuid": "fd64206cdc8d6b20b120c6379ebdd65d7e70ac4f"
   },
   "outputs": [],
   "source": [
    "y_pred = grad_boost.predict(X_val)\n",
    "gboost_mse = mean_squared_error(y_val, y_pred)\n",
    "gboost_rmse = np.sqrt(gboost_mse)\n",
    "gboost_rmse"
   ]
  },
  {
   "cell_type": "code",
   "execution_count": null,
   "metadata": {
    "_cell_guid": "825db809-4808-4e15-aea0-b2d548587888",
    "_uuid": "4437ab39cbb96a0fb3c80afc5bcf9d35120de0e8"
   },
   "outputs": [],
   "source": [
    "# Gradient Boosting was considerable better than RandomForest Regressor.\n",
    "# scale salesprice.\n",
    "# y_val = np.log(y_val)\n",
    "score = rmsle_cv(grad_boost, X_val, y_val)\n",
    "print(\"Gradient Boosting score: {:.4f}\\n\".format(score))"
   ]
  },
  {
   "cell_type": "markdown",
   "metadata": {
    "_cell_guid": "667b290b-1689-4e41-bb3e-d9af847d91eb",
    "_uuid": "aaa84ed41b0fb5b5ae5b15c592d2a8f01eab3e9e"
   },
   "source": [
    "## StackingRegressor:\n",
    "<img src=\"https://rasbt.github.io/mlxtend/user_guide/regressor/StackingRegressor_files/stackingregression_overview.png\">\n",
    "<a id=\"stacking_regressor\"></a>\n",
    "In stacking regressor we combine different models and use the predicted values in the training set to mae further predictions. In case you want to go deeper into parameter <b>\"tuning\"</b> I left you the code above the different models so you can perform your own GridSearchCV and find even more efficient parameters! <br>\n",
    "<ul>\n",
    "<li> ElasticNet </li>\n",
    "<li> DecisionTreeRegressor </li>\n",
    "<li> MLPRegressor (Later I will include it after learning more about neural networks) </li>\n",
    "<li> SVR </li>\n",
    "</ul>"
   ]
  },
  {
   "cell_type": "code",
   "execution_count": null,
   "metadata": {
    "_cell_guid": "44f09db7-2ce5-4583-b11f-ff3f249af36a",
    "_uuid": "a2f7f301d208d42685ed3572e5ed4c1c7b5206c4"
   },
   "outputs": [],
   "source": [
    "# Define the models\n",
    "from sklearn.linear_model import ElasticNet\n",
    "from sklearn.svm import SVR\n",
    "from sklearn.tree import DecisionTreeRegressor\n",
    "from sklearn.linear_model import Lasso, Ridge\n",
    "\n",
    "# Parameters for Ridge\n",
    "# params = {\"alpha\": [0.5, 1, 10, 30, 50, 75, 125, 150, 225, 250, 500]}\n",
    "# grid_ridge = GridSearchCV(Ridge(random_state=42), params)\n",
    "# grid_ridge.fit(X_train, y_train)\n",
    "\n",
    "# Parameters for DecisionTreeRegressor\n",
    "# params = {\"criterion\": [\"mse\", \"friedman_mse\"], \"max_depth\": [None, 2, 3], \"min_samples_split\": [2,3,4]}\n",
    "\n",
    "# grid_tree_reg = GridSearchCV(DecisionTreeRegressor(), params)\n",
    "# grid_tree_reg.fit(X_train, y_train)\n",
    "\n",
    "\n",
    "\n",
    "# Parameters for SVR\n",
    "# params = {\"kernel\": [\"rbf\", \"linear\", \"poly\"], \"C\": [0.3, 0.5, 0.7, 0.7, 1], \"degree\": [2,3]}\n",
    "# grid_svr = GridSearchCV(SVR(), params)\n",
    "# grid_svr.fit(X_train, y_train)\n",
    "\n",
    "\n",
    "\n",
    "# Tune Parameters for elasticnet\n",
    "# params = {\"alpha\": [0.5, 1, 5, 10, 15, 30], \"l1_ratio\": [0.3, 0.5, 0.7, 0.9, 1], \"max_iter\": [3000, 5000]}\n",
    "# grid_elanet = GridSearchCV(ElasticNet(random_state=42), params)\n",
    "\n",
    "# Predictive Models\n",
    "elastic_net = ElasticNet(alpha=0.1, l1_ratio=0.9, max_iter=3000)\n",
    "svr = SVR(C=1, kernel='linear')\n",
    "tree_reg = DecisionTreeRegressor(criterion='friedman_mse', max_depth=None, min_samples_split=3)\n",
    "ridge_reg = Ridge(alpha=10)\n",
    "\n",
    "# grid_elanet.fit(X_train, y_train)"
   ]
  },
  {
   "cell_type": "code",
   "execution_count": null,
   "metadata": {
    "_cell_guid": "f2bf6304-1b8a-42eb-9324-c685ee899856",
    "_uuid": "56cf784717e9d9b88b72caa5633cd38831ec44ed"
   },
   "outputs": [],
   "source": [
    "from mlxtend.regressor import StackingRegressor\n",
    "from sklearn.linear_model import LinearRegression\n",
    "# Try tomorrow with svr_rbf = SVR(kernel='rbf')\n",
    "# Check this website!\n",
    "# Consider adding two more models if the score does not improve.\n",
    "lin_reg = LinearRegression()\n",
    "\n",
    "ensemble_model = StackingRegressor(regressors=[elastic_net, svr, rand_model, grad_boost], meta_regressor=SVR(kernel=\"rbf\"))\n",
    "\n",
    "ensemble_model.fit(X_train, y_train)\n",
    "\n",
    "\n",
    "score = rmsle_cv(ensemble_model, X_val, y_val)\n",
    "print(\"Stacking Regressor score: {:.4f}\\n\".format(score))"
   ]
  },
  {
   "cell_type": "code",
   "execution_count": null,
   "metadata": {
    "_cell_guid": "aa21ead6-7f60-4c4e-8b21-d4401438b82d",
    "_uuid": "f4b50203905a8482f8a7db6fb8913988dc9f619e"
   },
   "outputs": [],
   "source": [
    "# We go for the stacking regressor model\n",
    "# although sometimes gradientboosting might show to have a better performance.\n",
    "final_pred = ensemble_model.predict(test_scaled)"
   ]
  },
  {
   "cell_type": "code",
   "execution_count": null,
   "metadata": {
    "_cell_guid": "5ae686ad-8145-495b-a1e3-5f5e5702da27",
    "_uuid": "657e682198b46b7830cf08d0df5f03ec89e1d3e7"
   },
   "outputs": [],
   "source": [
    "# # Dataframe\n",
    "final = pd.DataFrame()\n",
    "\n",
    "# Id and Predictions\n",
    "final['Id'] = test_id\n",
    "final['SalePrice'] = np.expm1(final_pred)\n",
    "\n",
    "# CSV file\n",
    "final.to_csv('submission.csv', index=False) # Create Submission File\n",
    "print('The File has been Submitted!')"
   ]
  },
  {
   "cell_type": "markdown",
   "metadata": {
    "_cell_guid": "9f22442e-2a8b-4607-b02d-3f74b36b3cc6",
    "_uuid": "c776995fa0739a42269e102e4a1e5da47ce58a25"
   },
   "source": [
    "## Keras and TensorFlow:\n",
    "Although the accuracy of our neural network  is still not as accurate as our ensemble and boosting model, I wanted to share two main aspects of tensorflow.\n",
    "<ul>\n",
    "<li> Implementing a Neural Network with a real life <b>regression scenario</b>. </li>\n",
    "<li>Show the structure of Neural Networks through <b>tensorboard</b> (we will do this with ipython display.) </li>\n",
    "</ul>\n",
    "<br><br>\n",
    "\n",
    "(Reference: Hands On Machine Learning and TensorFlow by Aurélien Géron)"
   ]
  },
  {
   "cell_type": "code",
   "execution_count": null,
   "metadata": {
    "_cell_guid": "6bafb4ca-d2b6-44c3-8a3c-793fa8db5dd0",
    "_uuid": "b152e7a15904b66f363e08a9421e3b2250138deb"
   },
   "outputs": [],
   "source": [
    "# import tensorflow as tf\n",
    "\n",
    "# import keras\n",
    "# from keras import backend as K\n",
    "# from keras.models import Sequential\n",
    "# from keras.layers import Activation\n",
    "# from keras.layers.core import Dense\n",
    "# from keras.optimizers import Adam\n",
    "# from keras.initializers import VarianceScaling\n",
    "\n",
    "\n",
    "\n",
    "# # Reset the graph looks crazy\n",
    "# def reset_graph(seed=42):\n",
    "#     tf.reset_default_graph()\n",
    "#     tf.set_random_seed(seed)\n",
    "#     np.random.seed(seed)\n",
    "    \n",
    "    \n",
    "# reset_graph()\n",
    "\n",
    "\n",
    "# m, n = X_train.shape\n",
    "\n",
    "# # Look at the preprocess data of the video and see the reshape part and apply it to X_train!\n",
    "# # he_init = keras.initializers.VarianceScaling(scale=1.0, mode=\"fan_in\", distribution='normal', seed=None)\n",
    "\n",
    "\n",
    "\n",
    "\n",
    "# # Create a model (Add layers)\n",
    "# model = Sequential([\n",
    "#     Dense(n, input_shape=(n,), kernel_initializer='random_uniform', activation='relu'), # Start with the inputs\n",
    "#     Dense(50, input_shape=(1,), kernel_initializer='random_uniform', activation='relu'), # Number of Layers\n",
    "#     Dense(1, kernel_initializer='random_uniform')\n",
    "# ]) \n",
    "\n",
    "\n",
    "# model.summary()"
   ]
  },
  {
   "cell_type": "markdown",
   "metadata": {
    "_cell_guid": "dc46da56-8217-4fee-8091-55c36083c2f0",
    "_uuid": "d585b2b5e43728a0704e02136279d0ed8946536d"
   },
   "source": [
    "## Conclusion:\n",
    "I got a 0.13 score approximately, in the future I aim to fix some issues with regards to the tuning of hyperparameters and implement other concepts of feature engineering that will help algorithms make a more concise prediction. Nevertheless, this project helped me understand more complex models that could be implemented in practical situations. Hope you enjoyed our in-depth analysis of this project and the predictive models used to come with close to accurate predictions. Open to constructive criticisms!"
   ]
  }
 ],
 "metadata": {
  "kernelspec": {
   "display_name": "Python 3",
   "language": "python",
   "name": "python3"
  },
  "language_info": {
   "codemirror_mode": {
    "name": "ipython",
    "version": 3
   },
   "file_extension": ".py",
   "mimetype": "text/x-python",
   "name": "python",
   "nbconvert_exporter": "python",
   "pygments_lexer": "ipython3",
   "version": "3.7.3"
  }
 },
 "nbformat": 4,
 "nbformat_minor": 1
}
