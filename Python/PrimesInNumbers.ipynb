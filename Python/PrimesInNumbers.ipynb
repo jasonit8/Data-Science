{
 "cells": [
  {
   "cell_type": "markdown",
   "metadata": {},
   "source": [
    "# Prime In Numbers\n",
    "\n",
    "This code solves [this puzzle](https://www.codewars.com/kata/54d512e62a5e54c96200019e), which basically asks for the prime factors of any number."
   ]
  },
  {
   "cell_type": "code",
   "execution_count": 1,
   "metadata": {},
   "outputs": [],
   "source": [
    "def primeFactors(n):\n",
    "    p, c, t = set(), [], ''\n",
    "    while n > 1:\n",
    "        for i in range(2,int(n)+1):\n",
    "            if n % i == 0:\n",
    "                p.add(i)\n",
    "                c += [i]\n",
    "                n /= i\n",
    "                break\n",
    "    else:\n",
    "        p = list(p)\n",
    "        p.sort()\n",
    "        e = [c.count(i) for i in p]\n",
    "    for i in range(len(p)):\n",
    "        t += '(%i**%i)' %(p[i],e[i])\n",
    "    return t.replace('**1','')"
   ]
  },
  {
   "cell_type": "code",
   "execution_count": 2,
   "metadata": {},
   "outputs": [
    {
     "name": "stdout",
     "output_type": "stream",
     "text": [
      "(2**2)(5**2)\n",
      "(3)(673)\n",
      "(5**2)(101)\n",
      "(2**2)(3)\n",
      "(5)(73)\n"
     ]
    }
   ],
   "source": [
    "print(primeFactors(100))\n",
    "print(primeFactors(2019))\n",
    "print(primeFactors(2525))\n",
    "print(primeFactors(12))\n",
    "print(primeFactors(365))"
   ]
  },
  {
   "cell_type": "markdown",
   "metadata": {},
   "source": [
    "These outputs are interpreted as:\n",
    "\n",
    "$\n",
    "100 = 2^2 \\times 5^2 \\\\\n",
    "2019 = 3 \\times 673 \\\\\n",
    "2525 = 5^2 \\times 101 \\\\\n",
    "12 = 2^2 \\times 3 \\\\\n",
    "365 = 5 \\times 73\n",
    "$\n",
    "\n",
    "The prime factors are sorted in an ascending order, ignoring the powers."
   ]
  },
  {
   "cell_type": "markdown",
   "metadata": {},
   "source": [
    "The end."
   ]
  }
 ],
 "metadata": {
  "kernelspec": {
   "display_name": "Python 3",
   "language": "python",
   "name": "python3"
  },
  "language_info": {
   "codemirror_mode": {
    "name": "ipython",
    "version": 3
   },
   "file_extension": ".py",
   "mimetype": "text/x-python",
   "name": "python",
   "nbconvert_exporter": "python",
   "pygments_lexer": "ipython3",
   "version": "3.7.3"
  }
 },
 "nbformat": 4,
 "nbformat_minor": 2
}
